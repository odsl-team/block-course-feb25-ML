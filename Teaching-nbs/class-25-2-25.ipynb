{
 "cells": [
  {
   "cell_type": "markdown",
   "id": "e04ae070-8c89-4182-a710-8c6289c23b58",
   "metadata": {},
   "source": [
    "# How many params?"
   ]
  },
  {
   "cell_type": "code",
   "execution_count": 25,
   "id": "3b3bdf2e-a8d6-4a3d-bb51-97fedcbee2e3",
   "metadata": {},
   "outputs": [],
   "source": [
    "import torch\n",
    "import numpy as np\n",
    "from torch import nn"
   ]
  },
  {
   "cell_type": "code",
   "execution_count": 6,
   "id": "2b986f69-6d71-4f46-8c2a-3ecce42a2cc3",
   "metadata": {},
   "outputs": [],
   "source": [
    "d=3\n",
    "H=8\n",
    "\n",
    "m = nn.Sequential(nn.Linear(d, H),nn.Sigmoid(), nn.Linear(H,1),nn.Sigmoid())"
   ]
  },
  {
   "cell_type": "code",
   "execution_count": 7,
   "id": "f4191cd8-4a99-424c-ab3b-717a65fe78cf",
   "metadata": {},
   "outputs": [],
   "source": [
    "n=128\n",
    "X = torch.randn(128,3)"
   ]
  },
  {
   "cell_type": "code",
   "execution_count": 9,
   "id": "49f2860e-b14b-45a9-bd18-97752ab78575",
   "metadata": {},
   "outputs": [
    {
     "data": {
      "text/plain": [
       "torch.Size([128, 3])"
      ]
     },
     "execution_count": 9,
     "metadata": {},
     "output_type": "execute_result"
    }
   ],
   "source": [
    "X.size()"
   ]
  },
  {
   "cell_type": "code",
   "execution_count": 11,
   "id": "8ec6f076-657d-436f-af1e-5c148c89a9d4",
   "metadata": {},
   "outputs": [
    {
     "data": {
      "text/plain": [
       "torch.Size([128, 1])"
      ]
     },
     "execution_count": 11,
     "metadata": {},
     "output_type": "execute_result"
    }
   ],
   "source": [
    "m(X).shape"
   ]
  },
  {
   "cell_type": "code",
   "execution_count": 28,
   "id": "69408d6d-f74b-4202-9d66-622351158cc9",
   "metadata": {},
   "outputs": [
    {
     "name": "stdout",
     "output_type": "stream",
     "text": [
      "torch.Size([8, 3])\n",
      "torch.Size([8])\n",
      "torch.Size([1, 8])\n",
      "torch.Size([1])\n"
     ]
    }
   ],
   "source": [
    "nPararm = 0\n",
    "for p in m.parameters():\n",
    "    print(p.size())\n",
    "    nPararm += np.prod(p.detach().numpy().shape)"
   ]
  },
  {
   "cell_type": "code",
   "execution_count": 29,
   "id": "044a2b93-a60c-4537-9031-022c70659d2e",
   "metadata": {},
   "outputs": [
    {
     "data": {
      "text/plain": [
       "np.int64(41)"
      ]
     },
     "execution_count": 29,
     "metadata": {},
     "output_type": "execute_result"
    }
   ],
   "source": [
    "nPararm"
   ]
  },
  {
   "cell_type": "code",
   "execution_count": 30,
   "id": "3d62f9fc-8c7b-4dd1-abdf-d12c0d513846",
   "metadata": {},
   "outputs": [
    {
     "data": {
      "text/plain": [
       "41"
      ]
     },
     "execution_count": 30,
     "metadata": {},
     "output_type": "execute_result"
    }
   ],
   "source": [
    "d*H + 2*H + 1"
   ]
  },
  {
   "cell_type": "code",
   "execution_count": 27,
   "id": "9a4089e1-f05e-4e97-abff-a74c9bda5faa",
   "metadata": {},
   "outputs": [
    {
     "data": {
      "text/plain": [
       "np.int64(24)"
      ]
     },
     "execution_count": 27,
     "metadata": {},
     "output_type": "execute_result"
    }
   ],
   "source": []
  },
  {
   "cell_type": "code",
   "execution_count": null,
   "id": "d035b421-6ea2-4024-be6e-4f34f77e3108",
   "metadata": {},
   "outputs": [],
   "source": []
  }
 ],
 "metadata": {
  "kernelspec": {
   "display_name": "Python 3 (ipykernel)",
   "language": "python",
   "name": "python3"
  },
  "language_info": {
   "codemirror_mode": {
    "name": "ipython",
    "version": 3
   },
   "file_extension": ".py",
   "mimetype": "text/x-python",
   "name": "python",
   "nbconvert_exporter": "python",
   "pygments_lexer": "ipython3",
   "version": "3.12.8"
  }
 },
 "nbformat": 4,
 "nbformat_minor": 5
}
