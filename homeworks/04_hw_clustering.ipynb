{
 "cells": [
  {
   "cell_type": "markdown",
   "id": "872b7bee-1b2d-4c0b-8f2a-d77f5e82d358",
   "metadata": {},
   "source": [
    "# Homework 4: Intro to clustering\n",
    "\n",
    "\n",
    "**Useful numpy functions:**\n",
    "- `plt.scatter`\n",
    "- `np.vstack`,`np.hstack`,`np.concatenate`\n",
    "- `np.max`,`np.min`,`np.argmax`,`np.argmin`\n",
    "  \n",
    "**Table of Contents:**\n",
    "1. K-means\n",
    "2. PCA features for supervised learning"
   ]
  },
  {
   "cell_type": "code",
   "execution_count": null,
   "id": "859c56bd-4cf9-4ed7-a052-b191061a4a95",
   "metadata": {},
   "outputs": [],
   "source": [
    "import matplotlib.pyplot as plt\n",
    "import numpy as np"
   ]
  },
  {
   "cell_type": "markdown",
   "id": "7949bd0a-c955-4af7-849c-44553993d713",
   "metadata": {},
   "source": [
    "## Part 1: K-means\n",
    "\n",
    "Let's work with the same example from lecture, but implement some of the formulas ourselves.\n",
    "\n",
    "Ex: two Gaussian blobs"
   ]
  },
  {
   "cell_type": "code",
   "execution_count": null,
   "id": "e80f7ccc-1087-42c7-b6cc-fcec046b4343",
   "metadata": {},
   "outputs": [],
   "source": [
    "# Number of training events we'll sample / blob\n",
    "N_tr = 100"
   ]
  },
  {
   "cell_type": "code",
   "execution_count": null,
   "id": "4d680cf0-ea43-41e7-8830-b87eec0aa51b",
   "metadata": {},
   "outputs": [],
   "source": [
    "# The centers of the Gaussian blobs\n",
    "c1 = np.array([0,0])\n",
    "c2 = np.array([2,1])\n",
    "\n",
    "s1 = .333\n",
    "s2 = .45"
   ]
  },
  {
   "cell_type": "code",
   "execution_count": null,
   "id": "c196d93a-4e94-4503-af30-522d81294fc1",
   "metadata": {},
   "outputs": [],
   "source": [
    "X1 = c1 + s1*np.random.randn(N_tr,2)\n",
    "X2 = c2 + s2*np.random.randn(N_tr,2)"
   ]
  },
  {
   "cell_type": "code",
   "execution_count": null,
   "id": "4d079ed7-5262-45f0-b923-9696bcf11a06",
   "metadata": {},
   "outputs": [],
   "source": [
    "color1 = 'dodgerblue'\n",
    "color2 = 'darkorange'\n",
    "fs=20"
   ]
  },
  {
   "cell_type": "code",
   "execution_count": null,
   "id": "ad2331bd-17e0-4788-989e-99c1f26e7ca8",
   "metadata": {},
   "outputs": [],
   "source": [
    "X = np.vstack([X1,X2])\n",
    "X.shape"
   ]
  },
  {
   "cell_type": "code",
   "execution_count": null,
   "id": "1b076913-354c-42a0-ae64-931c69412889",
   "metadata": {},
   "outputs": [],
   "source": [
    "'''\n",
    "Q1: Visualize the data\n",
    "TO DO\n",
    "'''\n",
    "raise NotImplementedError\n",
    "\n",
    "plt.xlabel('$x_0$',fontsize=fs)\n",
    "plt.ylabel('$x_1$',fontsize=fs)"
   ]
  },
  {
   "cell_type": "markdown",
   "id": "40039b59-fb64-464d-af7d-155f6f669987",
   "metadata": {},
   "source": [
    "OK -- run $K$-means!"
   ]
  },
  {
   "cell_type": "code",
   "execution_count": null,
   "id": "d713f24c-95d5-4552-aba2-62e4dd636278",
   "metadata": {},
   "outputs": [],
   "source": [
    "size=250\n",
    "marker='X'\n",
    "size=250\n",
    "lw=2\n",
    "alpha=.5"
   ]
  },
  {
   "cell_type": "code",
   "execution_count": null,
   "id": "e655cb83-2894-4707-957d-49fc70c88cad",
   "metadata": {},
   "outputs": [],
   "source": [
    "K=2\n",
    "\n",
    "idx1, idx2 = np.random.choice(X.shape[0], size=K,replace=False)"
   ]
  },
  {
   "cell_type": "code",
   "execution_count": null,
   "id": "7411150b-ad1a-4f03-8db2-a93a27c81f33",
   "metadata": {},
   "outputs": [],
   "source": [
    "idx1, idx2 = (91,47)"
   ]
  },
  {
   "cell_type": "code",
   "execution_count": null,
   "id": "f62dc526-6152-4873-af41-e4b0a3de5c7f",
   "metadata": {},
   "outputs": [],
   "source": [
    "m1 = X[idx1]\n",
    "m2 = X[idx2]\n",
    "\n",
    "mus = np.vstack([m1,m2])"
   ]
  },
  {
   "cell_type": "code",
   "execution_count": null,
   "id": "a4847a2b-b0c8-4ed5-b363-4912be28195b",
   "metadata": {},
   "outputs": [],
   "source": [
    "colors = [color1,color2]"
   ]
  },
  {
   "cell_type": "code",
   "execution_count": null,
   "id": "40652d34-ac8b-4569-a0ec-f0d0a5fa072d",
   "metadata": {},
   "outputs": [],
   "source": [
    "plt.scatter(*X.T,color='grey',alpha=alpha)\n",
    "\n",
    "plt.scatter(*mus.T,size,marker=marker,\n",
    "            linewidths=lw,edgecolors='k',\n",
    "            color=colors)\n",
    "\n",
    "plt.xlabel('$x_0$',fontsize=fs)\n",
    "plt.ylabel('$x_1$',fontsize=fs)\n",
    "plt.title('Initialization of algorithm')"
   ]
  },
  {
   "cell_type": "markdown",
   "id": "2bfd454c-a4c7-409b-87f1-6a3822151e50",
   "metadata": {},
   "source": [
    "Keep track of the clusters that each point gets assigned to."
   ]
  },
  {
   "cell_type": "code",
   "execution_count": null,
   "id": "9ea15aa2-559a-48f4-8ff0-a227fb4daaeb",
   "metadata": {},
   "outputs": [],
   "source": [
    "dim=2"
   ]
  },
  {
   "cell_type": "code",
   "execution_count": null,
   "id": "b1fad18d-aa7e-411c-980b-218f63da1e52",
   "metadata": {},
   "outputs": [],
   "source": []
  },
  {
   "cell_type": "code",
   "execution_count": null,
   "id": "1872c13f-d360-494d-aa24-89622b9eaff3",
   "metadata": {},
   "outputs": [],
   "source": []
  },
  {
   "cell_type": "code",
   "execution_count": null,
   "id": "555b14dd-1045-4fbd-a07a-84bbb3500da5",
   "metadata": {},
   "outputs": [],
   "source": [
    "def updateClusters(X,mus):\n",
    "    '''\n",
    "    Update the cluster assignment\n",
    "    \n",
    "    Inputs:\n",
    "    - X: input data (:, dim)\n",
    "    - mus: the cluster centers (:, K, dim)\n",
    "    Outputs:\n",
    "    - idx: int from [0, ... K-1] of len(X.shape[0])\n",
    "           for which cluster each input is assigned to\n",
    "    \n",
    "    '''\n",
    "    \n",
    "    # Infer the # of clusters and dim of the input\n",
    "    K, dim = mus.shape\n",
    "    assert X.shape[-1] == dim # sanity chck\n",
    "\n",
    "    '''\n",
    "    Q2/ Update the expectation step\n",
    "\n",
    "    TO DO\n",
    "    '''\n",
    "    raise NotImplementedError\n",
    "    \n",
    "    return idx\n",
    "\n",
    "\n",
    "def updateCenters(X, idx):\n",
    "    '''\n",
    "    Update the cluster centers\n",
    "    \n",
    "    Inputs:\n",
    "    - X: input data (:, dim)\n",
    "    - idx: int from [0, ... K-1] of len(X.shape[0])\n",
    "           for which cluster each input is assigned to\n",
    "    \n",
    "    Output:\n",
    "    - mus: the cluster centers (:, K, dim)\n",
    "    \n",
    "    '''\n",
    "\n",
    "    '''\n",
    "    Q3/ TO DO\n",
    "    '''\n",
    "    raise NotImplementedError\n",
    "    \n",
    "    return mus"
   ]
  },
  {
   "cell_type": "markdown",
   "id": "49e70f5e-1f2e-4e88-9d7d-d881895456d6",
   "metadata": {},
   "source": [
    "**Cost function**\n",
    "\n",
    "$$\\mathcal{L}(c,\\mu) = \\sum_{i=1}^n ||x^{(i)} - \\mu_{c^{(i)}}||^2$$"
   ]
  },
  {
   "cell_type": "code",
   "execution_count": null,
   "id": "13ce021d-84d7-40ab-a813-bd5ba8b30e47",
   "metadata": {},
   "outputs": [],
   "source": [
    "def costFct(X,mus,idx):\n",
    "\n",
    "    '''\n",
    "    Q4/ TO DO\n",
    "    '''\n",
    "    raise NotImplementedError\n",
    "    \n",
    "    "
   ]
  },
  {
   "cell_type": "code",
   "execution_count": null,
   "id": "b84a1385-13ce-42c6-8171-4a7fdb03eeeb",
   "metadata": {},
   "outputs": [],
   "source": [
    "def drawPlot(X, mus,idx, colors,  figName = ''):\n",
    "\n",
    "    K = mus.shape[0]\n",
    "    assert len(colors) == K\n",
    "    \n",
    "    for i, color in enumerate(colors):\n",
    "        plt.scatter(*X[idx==i].T,color=color,alpha=alpha)\n",
    "    \n",
    "    plt.scatter(*mus.T,size,\n",
    "                marker=marker,linewidths=lw,color=colors,\n",
    "                edgecolors='k')\n",
    "\n",
    "    plt.xlabel('$x_0$',fontsize=fs)\n",
    "    plt.ylabel('$x_1$',fontsize=fs)\n",
    "\n",
    "    if figName:\n",
    "        plt.savefig(figName,bbox_inches='tight')\n",
    "\n",
    "    plt.show()"
   ]
  },
  {
   "cell_type": "code",
   "execution_count": null,
   "id": "9bddb596-755a-476d-a659-ace70855e5d8",
   "metadata": {},
   "outputs": [],
   "source": [
    "Ls = []"
   ]
  },
  {
   "cell_type": "code",
   "execution_count": null,
   "id": "341aece3-893f-40bc-8f85-4b89c5c842b1",
   "metadata": {},
   "outputs": [],
   "source": [
    "# Run your training loop!!\n",
    "\n",
    "for i in range(0,6):\n",
    "    \n",
    "    # Update clusters    \n",
    "    idx = updateClusters(X,mus)\n",
    "    drawPlot(X,mus,idx,colors,figName=f'{figDir}/start_{i}a.pdf')\n",
    "    \n",
    "    L = costFct(X,mus,idx)\n",
    "    Ls.append(L)\n",
    "    print(f'L = {L}')\n",
    "    \n",
    "    # Update means\n",
    "    mus =  updateCenters(X, idx)\n",
    "    drawPlot(X,mus,idx,colors,figName=f'{figDir}/start_{i}b.pdf')\n",
    "   \n",
    "    L = costFct(X,mus,idx)\n",
    "    Ls.append(L)\n",
    "    print(f'L = {L}')"
   ]
  },
  {
   "cell_type": "code",
   "execution_count": null,
   "id": "ac711f7d-a8b6-49d5-8ead-0e81d7601680",
   "metadata": {},
   "outputs": [],
   "source": [
    "fs"
   ]
  },
  {
   "cell_type": "code",
   "execution_count": null,
   "id": "dce7a040-8690-4cd7-8537-d8a288c63999",
   "metadata": {},
   "outputs": [],
   "source": [
    "plt.scatter(np.arange(len(Ls))/2,Ls,64,\n",
    "            color=['b','g']*(len(Ls)//2))\n",
    "\n",
    "for l,c in zip(['E','M'],['b','g']):\n",
    "    plt.scatter([],[],64,label=f'{l}-step',color=c)\n",
    "\n",
    "plt.xlabel('Iteration',fontsize=fs)\n",
    "plt.ylabel('$\\mathcal{L}$',fontsize=40,rotation=0,labelpad=20,va='top',y=.9)\n",
    "plt.legend(fontsize=fs,frameon=False)\n",
    "\n",
    "ax = plt.gca()\n",
    "for loc in ['right','top']:\n",
    "    ax.spines[loc].set_visible(False)\n",
    "\n",
    "ax.spines['bottom'].set_linewidth(2)\n",
    "ax.spines['left'].set_linewidth(2)\n",
    "\n",
    "xlim = plt.xlim()\n",
    "_,ymax = plt.ylim()\n",
    "\n",
    "ax.plot((xlim[1]), (0), ls=\"\", marker=\">\", \n",
    "    ms=16, color=\"k\", clip_on=False)\n",
    "\n",
    "ax.plot((xlim[0]), (ymax), ls=\"\", marker=\"^\", \n",
    "    ms=16, color=\"k\", clip_on=False)\n",
    "\n",
    "plt.xlim(xlim)\n",
    "plt.ylim(0,ymax)\n",
    "plt.savefig(f'{figDir}/k2_loss.pdf',bbox_inches='tight')\n"
   ]
  },
  {
   "cell_type": "code",
   "execution_count": null,
   "id": "8ea5090a-a967-47e6-bb8d-e91401589c9e",
   "metadata": {},
   "outputs": [],
   "source": [
    "Ls"
   ]
  },
  {
   "cell_type": "markdown",
   "id": "598f9d84-65eb-4d6f-8a4c-294474e48649",
   "metadata": {},
   "source": [
    "**TO DO:** Rinse and repeat for different number of modes."
   ]
  },
  {
   "cell_type": "code",
   "execution_count": null,
   "id": "4b62a4cc-fee7-4105-996a-720f899d083a",
   "metadata": {},
   "outputs": [],
   "source": [
    "colors_K = ['dodgerblue','darkorange','limegreen','crimson','mediumpurple']"
   ]
  },
  {
   "cell_type": "code",
   "execution_count": null,
   "id": "a9bf5861-2a8b-44ce-aad7-c9051d527ce9",
   "metadata": {},
   "outputs": [],
   "source": [
    "LossPerK = []\n",
    "\n",
    "for K in range(1,6):\n",
    "    \n",
    "    print(f'Running K={K}')\n",
    "    \n",
    "    # Initialization\n",
    "    indices = np.random.choice(X.shape[0], size=K,replace=False)\n",
    "    mus = np.vstack([X[ii] for ii in indices])\n",
    "    idx = updateClusters(X,mus)\n",
    "\n",
    "    L0 = costFct(X,mus,idx)\n",
    "\n",
    "    for i in range(100):\n",
    "\n",
    "        # M-step\n",
    "        mus =  updateCenters(X, idx)\n",
    "\n",
    "        # E-step\n",
    "        idx = updateClusters(X,mus)\n",
    "\n",
    "        L = costFct(X,mus,idx)\n",
    "\n",
    "        if L == L0:\n",
    "            break\n",
    "\n",
    "        L0 = L\n",
    "    \n",
    "    LossPerK.append(L)\n",
    "    print(f'  L={L} ({i} iter)')\n",
    "    \n",
    "    drawPlot(X,mus,idx,colors_K[:K],figName=f'{figDir}/K{K}.pdf')\n"
   ]
  },
  {
   "cell_type": "code",
   "execution_count": null,
   "id": "b4b01ca2-ae82-4b18-b75c-52dbabe35ded",
   "metadata": {},
   "outputs": [],
   "source": [
    "plt.scatter(np.arange(1,6),LossPerK,200,\n",
    "            color=colors_K)\n",
    "\n",
    "plt.xlabel('K (# of clusters)',fontsize=fs)\n",
    "plt.ylabel('$\\mathcal{L}$',fontsize=40,rotation=0,labelpad=20,va='top',y=.9)\n",
    "\n",
    "ax = plt.gca()\n",
    "for loc in ['right','top']:\n",
    "    ax.spines[loc].set_visible(False)\n",
    "\n",
    "ax.spines['bottom'].set_linewidth(2)\n",
    "ax.spines['left'].set_linewidth(2)\n",
    "\n",
    "xlim = [0.5,5.5] #plt.xlim()\n",
    "_,ymax = plt.ylim()\n",
    "\n",
    "ax.plot((xlim[1]), (0), ls=\"\", marker=\">\", \n",
    "    ms=16, color=\"k\", clip_on=False)\n",
    "\n",
    "ax.plot((xlim[0]), (ymax), ls=\"\", marker=\"^\", \n",
    "    ms=16, color=\"k\", clip_on=False)\n",
    "\n",
    "plt.xlim(xlim)\n",
    "plt.ylim(0,ymax)\n",
    "plt.savefig(f'{figDir}/loss_varyK.pdf',bbox_inches='tight')\n"
   ]
  },
  {
   "cell_type": "code",
   "execution_count": null,
   "id": "f19a2d47-bd7b-464b-abc0-4814972315e8",
   "metadata": {},
   "outputs": [],
   "source": []
  },
  {
   "cell_type": "markdown",
   "id": "d18a700f-6169-4221-b80d-1e3dcbc60fd5",
   "metadata": {},
   "source": [
    "## Class exercies\n",
    "\n",
    "Below was the code for our class "
   ]
  },
  {
   "cell_type": "code",
   "execution_count": null,
   "id": "600dbbc0-474f-4d2b-be43-18dc9d36785c",
   "metadata": {},
   "outputs": [],
   "source": [
    "# The centers of the Gaussian blobs\n",
    "c1 = np.array([0,0])\n",
    "c2 = np.array([2,1])\n",
    "\n",
    "s1 = .333\n",
    "s2 = .45\n",
    "\n",
    "X1 = c1 + s1*np.random.randn(N_tr,2)\n",
    "X2 = c2 + s2*np.random.randn(N_tr,2)"
   ]
  },
  {
   "cell_type": "code",
   "execution_count": null,
   "id": "4eda0da2-1209-4997-83e5-2b4e70106602",
   "metadata": {},
   "outputs": [],
   "source": [
    "Xs = []\n",
    "\n",
    "for c, s in zip([(0,0),(0,2),(-3,1),(1,-2)],[.333,.45,.6,.4]):\n",
    "    \n",
    "    Xi = np.array(c) + s * np.random.randn(N_tr,2)\n",
    "    Xs.append(Xi)\n",
    "\n",
    "X = np.vstack(Xs)"
   ]
  },
  {
   "cell_type": "code",
   "execution_count": null,
   "id": "51f2fd4e-4e7f-4f86-a61c-18f7c7fc41d8",
   "metadata": {},
   "outputs": [],
   "source": [
    "plt.scatter(*X.T,color='grey',alpha=alpha)\n",
    "\n",
    "plt.xlabel('$x_0$',fontsize=fs)\n",
    "plt.ylabel('$x_1$',fontsize=fs)\n",
    "\n",
    "# plt.savefig('figures/Unsup/Kmeans/fourBlobs.pdf',bbox_inches='tight')"
   ]
  },
  {
   "cell_type": "code",
   "execution_count": null,
   "id": "59d1b8c3-4e1e-4f68-b892-a0941cb731ef",
   "metadata": {},
   "outputs": [],
   "source": [
    "colors_K = ['dodgerblue','darkorange','limegreen','crimson','mediumpurple',\n",
    "            'hotpink','mediumturquoise' \n",
    "           ]"
   ]
  },
  {
   "cell_type": "code",
   "execution_count": null,
   "id": "fb3e2e7b-22c9-41ab-b905-d7bfb39248e8",
   "metadata": {},
   "outputs": [],
   "source": [
    "LossPerK = []\n",
    "\n",
    "for K in range(1,8):\n",
    "    \n",
    "    print(f'Running K={K}')\n",
    "    \n",
    "    # Initialization\n",
    "    indices = np.random.choice(X.shape[0], size=K,replace=False)\n",
    "    mus = np.vstack([X[ii] for ii in indices])\n",
    "    idx = updateClusters(X,mus)\n",
    "\n",
    "    L0 = costFct(X,mus,idx)\n",
    "\n",
    "    for i in range(100):\n",
    "\n",
    "        # M-step\n",
    "        mus =  updateCenters(X, idx)\n",
    "\n",
    "        # E-step\n",
    "        idx = updateClusters(X,mus)\n",
    "\n",
    "        L = costFct(X,mus,idx)\n",
    "\n",
    "        if L == L0:\n",
    "            break\n",
    "\n",
    "        L0 = L\n",
    "    \n",
    "    LossPerK.append(L)\n",
    "    print(f'  L={L} ({i} iter)')\n",
    "    \n",
    "    drawPlot(X,mus,idx,colors_K[:K],figName=f'{figDir}/fourBlobs_K{K}.pdf')\n"
   ]
  },
  {
   "cell_type": "code",
   "execution_count": null,
   "id": "a5624ffe-6683-49c4-893f-b64224a25bdd",
   "metadata": {},
   "outputs": [],
   "source": [
    "plt.scatter(np.arange(1,8),LossPerK,200,\n",
    "            color=colors_K)\n",
    "\n",
    "plt.xlabel('K (# of clusters)',fontsize=fs)\n",
    "plt.ylabel('$\\mathcal{L}$',fontsize=40,rotation=0,labelpad=20,va='top',y=.9)\n",
    "\n",
    "ax = plt.gca()\n",
    "for loc in ['right','top']:\n",
    "    ax.spines[loc].set_visible(False)\n",
    "\n",
    "ax.spines['bottom'].set_linewidth(2)\n",
    "ax.spines['left'].set_linewidth(2)\n",
    "\n",
    "xlim = [0.5,7.5] \n",
    "_,ymax = plt.ylim()\n",
    "\n",
    "ax.plot((xlim[1]), (0), ls=\"\", marker=\">\", \n",
    "    ms=16, color=\"k\", clip_on=False)\n",
    "\n",
    "ax.plot((xlim[0]), (ymax), ls=\"\", marker=\"^\", \n",
    "    ms=16, color=\"k\", clip_on=False)\n",
    "\n",
    "plt.xlim(xlim)\n",
    "plt.ylim(0,ymax)\n",
    "plt.savefig(f'{figDir}/fourBlobs_loss.pdf',bbox_inches='tight')\n"
   ]
  },
  {
   "cell_type": "markdown",
   "id": "e289d604-e981-4f41-bbc9-eb7506be26a8",
   "metadata": {},
   "source": [
    "## 2. PCA + NN: Learning useful features\n",
    "\n",
    "\n",
    "- Take your top 49 PCA features (from the thurs tutorial), and feed them into a linear model with `Softmax` output layer\n",
    "    - Fit the weights of the linear layer by gradient descent\n",
    "    - How does this compare with the linear + `Softmax` model you built in HW 2 (in terms of accuracy)\n",
    "- Try using a NN w/ multi-class output instead?\n",
    "    - Are the PCA features helpful for training the NN, or can the NN directly use the low level features?\n",
    "\n"
   ]
  },
  {
   "cell_type": "code",
   "execution_count": null,
   "id": "364ac787-93f4-4e3c-8c5b-648b50976678",
   "metadata": {},
   "outputs": [],
   "source": []
  }
 ],
 "metadata": {
  "kernelspec": {
   "display_name": "Python 3 (ipykernel)",
   "language": "python",
   "name": "python3"
  },
  "language_info": {
   "codemirror_mode": {
    "name": "ipython",
    "version": 3
   },
   "file_extension": ".py",
   "mimetype": "text/x-python",
   "name": "python",
   "nbconvert_exporter": "python",
   "pygments_lexer": "ipython3",
   "version": "3.12.8"
  }
 },
 "nbformat": 4,
 "nbformat_minor": 5
}
