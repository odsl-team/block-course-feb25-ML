{
 "cells": [
  {
   "cell_type": "markdown",
   "id": "46752f03-86ce-4e15-98c4-16b14f0c4357",
   "metadata": {},
   "source": [
    "# Homework 5: Science meets data science\n",
    "\n",
    "OK, in the last lecture you learned a lot about tips and tricks for training, but, at the end of the day, we care about not just solving canned homework problems, but _thinking_ of your own problems and comin up with novel applications!\n",
    "\n",
    "**TO DO:** Choose dataset and devise your _own_ ML task!\n",
    "- You can use one of the datasets we've considered in an earlier tutorial / homework this week\n",
    "    - Just define a new task to look at the dataset in a new way (e.g, applying the regularization techinques we learned about today to an earlier problem, or applying a different model to a homework problem we considered before).\n",
    "- Or, you can use another open science dataset! We list some common ones in the `data/README.md` folder.\n",
    "- You're also free to use your own dataset forom your research or personal projects!\n",
    "\n",
    "## Your tasks:\n",
    "\n",
    "### 1. Describe the dataset:\n",
    "- What were the input / output dimesions?\n",
    "- Are you considering \"raw\" data, or will you apply\n",
    "- What preprocessing will you apply?\n",
    "\n",
    "\n",
    "### 2. What problem do you want to solve?\n",
    "- E.g, will you cast this as a supervised or unsupervised learning problem?\n",
    "- If supervised, which labels will you use?\n",
    "\n",
    "### 3. Apply an algoritm\n",
    "- Describe the chose and the hyperparameters and optimization tweaks you did\n",
    "    - Is you model overfitting or underfitting? How can you tell?\n",
    "    - How did you decide which hyperparameters to optimize over?\n",
    "- You're welcomed (invited) to try more than one and compare / contrast the strengths and weaknesses of the two, but the requirement is, **you must try at least one model from week 1**.\n",
    "\n",
    "### 4. [Bonus] Could you also apply one of the ``advanced'' models that Baran will introduce in week 2?\n",
    "\n",
    "    Not required for ECTS points, just for fun if your want!\n",
    "\n",
    "    - Which model had better performance?\n",
    "    - How hard were the models to optimize?\n",
    "    - How long is the training time?\n"
   ]
  },
  {
   "cell_type": "markdown",
   "id": "77b34569-3b15-431e-8dc6-e48dfb9c3383",
   "metadata": {},
   "source": [
    "**Useful blog post:** http://karpathy.github.io/2019/04/25/recipe/"
   ]
  },
  {
   "cell_type": "markdown",
   "id": "06329ba2-7ff5-490a-812c-a8078c8b4c7b",
   "metadata": {},
   "source": [
    "**Remember:** Your course project could always become your first ML for science paper!"
   ]
  },
  {
   "cell_type": "code",
   "execution_count": null,
   "id": "b897eabd-670c-4b24-a65d-0ce3a7bca3ad",
   "metadata": {},
   "outputs": [],
   "source": []
  }
 ],
 "metadata": {
  "kernelspec": {
   "display_name": "Python 3 (ipykernel)",
   "language": "python",
   "name": "python3"
  },
  "language_info": {
   "codemirror_mode": {
    "name": "ipython",
    "version": 3
   },
   "file_extension": ".py",
   "mimetype": "text/x-python",
   "name": "python",
   "nbconvert_exporter": "python",
   "pygments_lexer": "ipython3",
   "version": "3.12.8"
  }
 },
 "nbformat": 4,
 "nbformat_minor": 5
}
