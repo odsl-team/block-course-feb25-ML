{
 "cells": [
  {
   "cell_type": "markdown",
   "id": "cb2ef7a5-e5bd-4efd-a9b7-178f4fd03890",
   "metadata": {},
   "source": [
    "# Homework 1: Classification\n",
    "\n",
    "**Q2.1** Build a model\n",
    "\n",
    "**Q2.2** Solve by gradient descent\n",
    "\n",
    "**Q2.3** Learning the NOR gate\n",
    "\n"
   ]
  },
  {
   "cell_type": "code",
   "execution_count": null,
   "id": "f0483cda-d0bd-4380-92f3-ac8fcbd1772e",
   "metadata": {},
   "outputs": [],
   "source": []
  }
 ],
 "metadata": {
  "kernelspec": {
   "display_name": "Python 3 (ipykernel)",
   "language": "python",
   "name": "python3"
  },
  "language_info": {
   "codemirror_mode": {
    "name": "ipython",
    "version": 3
   },
   "file_extension": ".py",
   "mimetype": "text/x-python",
   "name": "python",
   "nbconvert_exporter": "python",
   "pygments_lexer": "ipython3",
   "version": "3.12.8"
  }
 },
 "nbformat": 4,
 "nbformat_minor": 5
}
