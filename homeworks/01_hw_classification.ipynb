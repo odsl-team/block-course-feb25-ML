{
 "cells": [
  {
   "cell_type": "markdown",
   "id": "cb2ef7a5-e5bd-4efd-a9b7-178f4fd03890",
   "metadata": {},
   "source": [
    "# Homework 1: Classification, Perceptrons\n",
    "\n",
    "Here, we'll continue on the theme of \"supervised learning\".\n",
    "\n",
    "<img src=\"../figures/ml-key-ideas.jpg\" width=400>\n",
    "\n",
    "In the tutorial, we went through all of the components of the above diagram for a regression problme.\n",
    "\n",
    "Now we'll revise the same steps, but looking at a **binary classification** example.\n",
    "\n",
    "**Table of contents:**\n",
    "- <span style=\"color:dimgray\"> **Q1:** Data visualization </span>\n",
    "- <span style=\"color:purple\"> **Q2:** Hypothesis class: perception  </span>\n",
    "- <span style=\"color:blue\"> **Q3:** Loss function, binary cross entropy </span>\n",
    "- <span style=\"color:turquoise\"> **Q4:** Learning (fitting the model) </span>\n",
    "- <span style=\"color:gold\"> **Q5:** Final model</span>"
   ]
  },
  {
   "cell_type": "code",
   "execution_count": null,
   "id": "537a5132-a612-4abb-8e92-c1fc1c189cda",
   "metadata": {},
   "outputs": [],
   "source": [
    "import pandas as pd\n",
    "import numpy as np\n",
    "import matplotlib.pyplot as plt"
   ]
  },
  {
   "cell_type": "markdown",
   "id": "9b45936a-752d-4995-9bd5-4e1e9defb5de",
   "metadata": {},
   "source": [
    "### 0. Dataset generation"
   ]
  },
  {
   "cell_type": "code",
   "execution_count": null,
   "id": "2a40353d-e723-4020-a6b5-7189e7e5ad9a",
   "metadata": {},
   "outputs": [],
   "source": [
    "def get_data(N):\n",
    "\n",
    "    assert N % 2 == 0 # fct assumes even N \n",
    "    \n",
    "    # The centers of the Gaussian blobs\n",
    "    c1 = np.array([0,0])\n",
    "    c2 = np.array([2,1])\n",
    "    \n",
    "    s1 = .333\n",
    "    s2 = .45\n",
    "\n",
    "    X1 = c1 + s1*np.random.randn(N//2,2)\n",
    "    X2 = c2 + s2*np.random.randn(N//2,2)\n",
    "\n",
    "    y1 = np.zeros(N//2)\n",
    "    y2 = np.ones(N//2)\n",
    "\n",
    "    X = np.concatenate([X1,X2],axis=0)\n",
    "    y = np.hstack([y1,y2])\n",
    " \n",
    "    # Shuffle the data\n",
    "    idx = np.arange(N)\n",
    "    np.random.shuffle(idx)\n",
    "\n",
    "    return X[idx], y[idx]"
   ]
  },
  {
   "cell_type": "code",
   "execution_count": null,
   "id": "17fe318d-c6b5-4ada-9fcf-125a0783b48d",
   "metadata": {},
   "outputs": [],
   "source": [
    "X_feat,y = get_data(100)"
   ]
  },
  {
   "cell_type": "code",
   "execution_count": null,
   "id": "f3f26c11-6794-4417-91a5-eec5734f3829",
   "metadata": {},
   "outputs": [],
   "source": [
    "X_feat[:3]"
   ]
  },
  {
   "cell_type": "code",
   "execution_count": null,
   "id": "3dec8aea-6fea-4b82-ac44-2a6928394203",
   "metadata": {},
   "outputs": [],
   "source": [
    "y[:3]"
   ]
  },
  {
   "cell_type": "markdown",
   "id": "cab03ae1-d2fc-4728-9e43-d6204d1af3e1",
   "metadata": {},
   "source": [
    "### <span style=\"color:dimgray\"> 1. Data visualization </span>\n",
    "\n",
    "**TO DO:** Visualize the dataset"
   ]
  },
  {
   "cell_type": "code",
   "execution_count": null,
   "id": "67cac334-b278-4c21-bb68-64af3595bd03",
   "metadata": {},
   "outputs": [],
   "source": []
  },
  {
   "cell_type": "code",
   "execution_count": null,
   "id": "2fc598bb-1e78-40fa-bd89-11ea2da7b5a8",
   "metadata": {},
   "outputs": [],
   "source": []
  },
  {
   "cell_type": "markdown",
   "id": "b9e5c6c2-0f6e-468e-8d50-98541303b183",
   "metadata": {},
   "source": [
    "### <span style=\"color:purple\"> 2. Hypothesis class: perception  </span>\n",
    "\n",
    "The perceptron is a combination of a linear model with outputs bounded between (0,1), so we can interpret the output probabilisitcally.\n",
    "\n",
    "$$f(X;w) = \\sigma(X w),$$\n",
    "\n",
    "where $\\sigma(z) = \\frac{1}{1+ \\exp(-z)}$.\n",
    "\n",
    "\n",
    "**TO DO:** Code up the perceptron"
   ]
  },
  {
   "cell_type": "code",
   "execution_count": null,
   "id": "165720d4-df97-4471-add3-58d7377ae178",
   "metadata": {},
   "outputs": [],
   "source": [
    "def sigmoid(z):\n",
    "    '''\n",
    "    TO DO: Your code here\n",
    "    '''\n",
    "    return \n",
    "\n",
    "\n",
    "def perceptron(X,w):\n",
    "    '''\n",
    "    TO DO: Your code here\n",
    "    '''\n",
    "    return "
   ]
  },
  {
   "cell_type": "code",
   "execution_count": null,
   "id": "b58b6591-9ccf-459f-8a9f-96d6a44c3ba6",
   "metadata": {},
   "outputs": [],
   "source": [
    "n,d = X_feat.shape\n",
    "X = np.column_stack([np.ones(n),X_feat])\n",
    "\n",
    "w0 = np.random.randn(d+1)"
   ]
  },
  {
   "cell_type": "markdown",
   "id": "3a7985c5-3765-4402-aabd-53621e68a53c",
   "metadata": {},
   "source": [
    "**Question:** What do you expect the accuracy to be before fitting??\n",
    "\n",
    "**Your answer:**"
   ]
  },
  {
   "cell_type": "markdown",
   "id": "7d688231-100e-451a-9bf9-12cc893f2fd4",
   "metadata": {},
   "source": [
    "**TO DO:** Test out your hypotheis, what is the accuracy of your perceptron with this w0 (?)"
   ]
  },
  {
   "cell_type": "code",
   "execution_count": null,
   "id": "5a167e07-d40e-4ec1-90ce-925084bb3eca",
   "metadata": {},
   "outputs": [],
   "source": [
    "# Visualizing the predictions\n",
    "\n",
    "f = perceptron(X,w0)\n",
    "\n",
    "plt.hist(f[y==0],20,(0,1),color='r',alpha=.5,label='y=0')\n",
    "plt.hist(f[y==1],20,(0,1),color='b',alpha=.5,label='y=1')\n",
    "plt.legend(fontsize=15)\n",
    "plt.xlabel('$f(X;w) = \\sigma(X w)$',fontsize=15)\n",
    "plt.ylabel('Entries',fontsize=15)\n",
    "plt.show()"
   ]
  },
  {
   "cell_type": "code",
   "execution_count": null,
   "id": "7f97b7e1-20bb-482d-8805-6b46c5cdd5b3",
   "metadata": {},
   "outputs": [],
   "source": [
    "'''\n",
    "TO DO: Calculate accuracy\n",
    "'''\n",
    "\n",
    "acc = #fill in\n",
    "print('acc is',acc)"
   ]
  },
  {
   "cell_type": "markdown",
   "id": "7f3cfaff-e601-478a-9ec5-5050d5a8b571",
   "metadata": {},
   "source": [
    "### <span style=\"color:blue\"> 3. Loss function, binary cross entropy </span>\n",
    "\n",
    "Then by interpretting the output probabilistically we defined the binary cross entropy function in class:\n",
    "\n",
    "$$\n",
    "\\begin{align}\n",
    "\\mathcal{L} &= \\frac{1}{n}\\sum_i - y^{(i)} \\log [ f(x^{(i)};w) ] - (1-y^{(i)}) \\log [ 1-  f(x^{(i)};w)  ] \\\\\n",
    "&= \\frac{1}{n}\\sum_i - y^{(i)} \\log [ \\sigma(w^T x^{(i)})] - (1-y^{(i)}) \\log [ 1- \\sigma(w^T x^{(i)}) ]\n",
    "\\end{align}\n",
    "$$\n",
    "\n",
    "**TO DO:** Code up the BCE loss."
   ]
  },
  {
   "cell_type": "code",
   "execution_count": null,
   "id": "32894a50-41bb-4b75-a21f-b63084a54a2a",
   "metadata": {},
   "outputs": [],
   "source": [
    "def bce(y,y_pred):\n",
    "    '''\n",
    "    TO DO: Implement\n",
    "    '''\n",
    "    return "
   ]
  },
  {
   "cell_type": "markdown",
   "id": "a9f1b3ee-5209-4652-9259-111c3e5e078e",
   "metadata": {},
   "source": [
    "**Q:** What would you expect the loss to be before training?\n",
    "\n",
    "^^ Tip It's always a good idea to ask yourself this question before training for any model that you have!!"
   ]
  },
  {
   "cell_type": "markdown",
   "id": "2f8da3aa-d641-4d61-9f29-17ffc3eff996",
   "metadata": {},
   "source": [
    "**Your answer:**"
   ]
  },
  {
   "cell_type": "markdown",
   "id": "8814e4ca-6e06-4f05-b251-045bf9496895",
   "metadata": {},
   "source": [
    "**Test your hypo!**\n",
    "\n",
    "Note, if your result doesn't agree with your expectation, try a few iterations of initiatlizing `w0` and take an avg.\n",
    "\n",
    "(And maybe dial down the variance when initializing `w0` a bit.)"
   ]
  },
  {
   "cell_type": "code",
   "execution_count": null,
   "id": "f4db7028-d89e-414d-b9ec-fe9fccb17047",
   "metadata": {},
   "outputs": [],
   "source": [
    "bce(y,f)"
   ]
  },
  {
   "cell_type": "markdown",
   "id": "44dc0509-409b-4559-9184-86f471923588",
   "metadata": {},
   "source": [
    "**Does this prediction agree with your expectations?**"
   ]
  },
  {
   "cell_type": "code",
   "execution_count": null,
   "id": "efe1e689-82aa-4a52-ba21-81888b290056",
   "metadata": {},
   "outputs": [],
   "source": []
  },
  {
   "cell_type": "markdown",
   "id": "8beafb68-2697-44f3-ad23-ce010e40b8b5",
   "metadata": {},
   "source": [
    "### <span style=\"color:turquoise\"> 4. Learning (fitting the model) </span>\n",
    "\n",
    "Find the minimum of the loss function for this dataset.\n"
   ]
  },
  {
   "cell_type": "code",
   "execution_count": null,
   "id": "d61671e2-acea-43d2-a7c6-465e1e89ce4e",
   "metadata": {},
   "outputs": [],
   "source": []
  },
  {
   "cell_type": "code",
   "execution_count": null,
   "id": "d0e69686-baa0-40ff-aa76-77f75811afc5",
   "metadata": {},
   "outputs": [],
   "source": [
    "def dLdw(y,X,w):\n",
    "    '''\n",
    "    To do, code up the formula you derived\n",
    "    '''\n",
    "\n",
    "    return "
   ]
  },
  {
   "cell_type": "code",
   "execution_count": null,
   "id": "fa399a1b-39fc-4145-8c6a-cea7b14c8064",
   "metadata": {},
   "outputs": [],
   "source": [
    "losses = []\n",
    "\n",
    "w = np.copy(w0)\n",
    "\n",
    "alpha=.01\n",
    "\n",
    "for i in range(100000):\n",
    "\n",
    "    '''\n",
    "    TO DO: Code up a training loop\n",
    "    using the dLdw you defined above\n",
    "    '''\n",
    "\n",
    "plt.plot(losses)\n",
    "plt.xlabel('Iterations',fontsize=15)\n",
    "plt.ylabel('BCE Loss',fontsize=15)\n",
    "# plt.xscale('log')"
   ]
  },
  {
   "cell_type": "markdown",
   "id": "87c8e152-7589-4d84-93b9-9c8c62887078",
   "metadata": {},
   "source": [
    "<span style=\"color:blue\"> Nice! It looks like we've reached the minimum. </span>"
   ]
  },
  {
   "cell_type": "markdown",
   "id": "2a6458e2-c365-43d0-ae3e-920775e5909e",
   "metadata": {},
   "source": [
    "### <span style=\"color:gold\"> 5. Final model</span>\n",
    "\n",
    "**To do:**\n",
    "- [ ] Visualize the decision boundary (model prediciton vs. $(x_0,x_1)$)\n",
    "    - Hint: `np.meshgrid` and `plt.pcolormesh` might be helpful!\n",
    "- [ ] Calculate the accuracy after training\n",
    "- [ ] Draw the roc curve\n",
    "    - Hint: `np.add.accumulate` might be helpful!"
   ]
  },
  {
   "cell_type": "markdown",
   "id": "4487d55b-2f6d-4e34-801f-e12c0d187023",
   "metadata": {},
   "source": []
  },
  {
   "cell_type": "markdown",
   "id": "c7a1262b-4987-4938-9251-8ab4c2bf8d09",
   "metadata": {},
   "source": [
    "**How does it look?**"
   ]
  },
  {
   "cell_type": "code",
   "execution_count": null,
   "id": "1fdc2121-690d-4d6d-ab50-2f8d75724868",
   "metadata": {},
   "outputs": [],
   "source": [
    "# Calculate the accuracy\n",
    "\n",
    "acc =\n",
    "print('acc',acc)"
   ]
  },
  {
   "cell_type": "code",
   "execution_count": null,
   "id": "4ac459c5-68bf-40a3-a4cc-c0ea867a933f",
   "metadata": {},
   "outputs": [],
   "source": []
  },
  {
   "cell_type": "code",
   "execution_count": null,
   "id": "24199982-e4c0-405f-a2f8-297f6602a154",
   "metadata": {},
   "outputs": [],
   "source": [
    "# Calculate the roc curve\n"
   ]
  },
  {
   "cell_type": "code",
   "execution_count": null,
   "id": "50adbf8b-9110-4d07-9a41-ad1f3bc6af7c",
   "metadata": {},
   "outputs": [],
   "source": [
    "# Draw the roc curve\n"
   ]
  },
  {
   "cell_type": "markdown",
   "id": "8f024d7f-ccda-4330-8106-5f3b78070c34",
   "metadata": {},
   "source": [
    "**What do you think?** (Sanity check, is your roc curve AUC > 0.5 😉)"
   ]
  },
  {
   "cell_type": "code",
   "execution_count": null,
   "id": "6a4a961f-29ca-44d3-bb84-1f39662617d6",
   "metadata": {},
   "outputs": [],
   "source": []
  },
  {
   "cell_type": "code",
   "execution_count": null,
   "id": "dcc230cd-15a1-4ed4-a3f0-a8ec7ddae3b0",
   "metadata": {},
   "outputs": [],
   "source": []
  }
 ],
 "metadata": {
  "kernelspec": {
   "display_name": "Python 3 (ipykernel)",
   "language": "python",
   "name": "python3"
  },
  "language_info": {
   "codemirror_mode": {
    "name": "ipython",
    "version": 3
   },
   "file_extension": ".py",
   "mimetype": "text/x-python",
   "name": "python",
   "nbconvert_exporter": "python",
   "pygments_lexer": "ipython3",
   "version": "3.12.8"
  }
 },
 "nbformat": 4,
 "nbformat_minor": 5
}
