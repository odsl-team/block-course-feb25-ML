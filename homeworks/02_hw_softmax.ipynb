{
 "cells": [
  {
   "cell_type": "markdown",
   "id": "de6db15e-938a-46d5-8319-3ed7eed16d77",
   "metadata": {},
   "source": [
    "# Homework 2: Softmax\n",
    "\n",
    "**Goal:** We learned about softmax in lecture, today, a **key** building block for learning about multi-vectored outputs (e.g, needed for constructing NNs) and for the classic NN output layer for multi-class classification.\n",
    "\n",
    "Let's build a softmax from scratch, and train a coarse MNIST classifier rn!!\n",
    "\n",
    "Also, for this notebook, we'll be more careful about the train / val / test split that we learned about yesterday 😁"
   ]
  },
  {
   "cell_type": "code",
   "execution_count": null,
   "id": "63202e45-2792-4414-85bc-11d0a196b3a2",
   "metadata": {},
   "outputs": [],
   "source": [
    "# !pip install torch # we'll want to build some of the nb in torch today"
   ]
  },
  {
   "cell_type": "code",
   "execution_count": null,
   "id": "705d18b8-ba98-4122-bee1-c9f9d1ec7e93",
   "metadata": {},
   "outputs": [],
   "source": [
    "import numpy as np\n",
    "import torch\n",
    "import torch.nn as nn\n",
    "import matplotlib.pyplot as plt"
   ]
  },
  {
   "cell_type": "markdown",
   "id": "8427006b-5596-4054-b86a-004becd08537",
   "metadata": {},
   "source": [
    "**Download the data set:**\n",
    "\n",
    "I downloaded the file from here: https://drive.google.com/file/d/1eEKzfmEu6WKdRlohBQiqi3PhW_uIVJVP/view\n",
    "\n",
    "and moved it to our data directory."
   ]
  },
  {
   "cell_type": "code",
   "execution_count": null,
   "id": "aa80821a-b5df-43d4-a53a-078c76cc256a",
   "metadata": {},
   "outputs": [],
   "source": [
    "mnist_train = np.genfromtxt('../data/MNIST_CSV/mnist_train.csv', delimiter=',')"
   ]
  },
  {
   "cell_type": "code",
   "execution_count": null,
   "id": "7ba217df-400b-4b75-8ab4-f358a2683d67",
   "metadata": {},
   "outputs": [],
   "source": [
    "y_all, X_all = mnist_train[:,0],mnist_train[:,1:]"
   ]
  },
  {
   "cell_type": "code",
   "execution_count": null,
   "id": "4856deb0-fda4-4c5d-98cb-590f83eaf969",
   "metadata": {
    "scrolled": true
   },
   "outputs": [],
   "source": [
    "X_all.shape"
   ]
  },
  {
   "cell_type": "code",
   "execution_count": null,
   "id": "2c975d56-8c4b-4090-9be8-fe7601888774",
   "metadata": {},
   "outputs": [],
   "source": [
    "nPix = int(np.sqrt(X_all.shape[1]))\n",
    "nPix"
   ]
  },
  {
   "cell_type": "code",
   "execution_count": null,
   "id": "e5d50107-2466-4e91-bd1f-25da9775ce06",
   "metadata": {},
   "outputs": [],
   "source": [
    "idx = 0\n",
    "\n",
    "plt.imshow(X_all[idx].reshape(nPix,nPix),cmap='gray_r')\n",
    "\n",
    "plt.hlines(np.arange(0,nPix+1,4),0,nPix)\n",
    "plt.vlines(np.arange(0,nPix+1,4),0,nPix)\n",
    "\n",
    "plt.title(f'y={y_all[idx]}')"
   ]
  },
  {
   "cell_type": "markdown",
   "id": "9d7a79f0-5165-4bba-b52a-32147a7a3c16",
   "metadata": {},
   "source": [
    "Great! For the small MLPs we've training today, 728 is going to be a lot of features:\n",
    "\n",
    "**Task 1:** Downsample the image to be 7x7"
   ]
  },
  {
   "cell_type": "markdown",
   "id": "3aeb97a5-6684-4b58-bb0b-48f7a1af6eeb",
   "metadata": {},
   "source": [
    "OK, great, now that we understand how the shapes work, we can apply this to the full matrix to get our training dataset!!"
   ]
  },
  {
   "cell_type": "code",
   "execution_count": null,
   "id": "4eae8791-c107-4f8b-8310-ad62ff80348f",
   "metadata": {},
   "outputs": [],
   "source": [
    "'''\n",
    "TO DO: Your code here\n",
    "'''"
   ]
  },
  {
   "cell_type": "markdown",
   "id": "bd435caa-d795-48a7-aeb2-dfbb6e6ace7e",
   "metadata": {},
   "source": [
    "**Visualize the output:** \n",
    "\n",
    "Look at the avg image for each label.\n",
    "\n",
    "At this resolution, can you still \"by eye\" tell the numbers apart?"
   ]
  },
  {
   "cell_type": "code",
   "execution_count": null,
   "id": "85b60559-54ab-41b2-b11e-0783b822b575",
   "metadata": {},
   "outputs": [],
   "source": [
    "fig, axs = plt.subplots(2,5,figsize=(16,7) )\n",
    "\n",
    "for yi,ax in enumerate(axs.flatten()):\n",
    "    xi_avg =  # TO DO: Your doe here\n",
    "    ax.imshow(xi_avg,cmap='gray_r')\n",
    "    ax.set_title(f'y={yi}')\n",
    "plt.show()"
   ]
  },
  {
   "cell_type": "markdown",
   "id": "4e8a875a-387e-4602-813c-b689aa7fca0e",
   "metadata": {},
   "source": [
    "**Your answer:** (explain what you learn from your plot above)"
   ]
  },
  {
   "cell_type": "markdown",
   "id": "ceec93f0-0278-4948-bcf7-b4bab3625063",
   "metadata": {},
   "source": [
    "**Split into a training and val set**\n",
    "\n",
    "Note: we have a different test set in the file that we can use for checking at the very end (after all hyperparameter optimization)"
   ]
  },
  {
   "cell_type": "code",
   "execution_count": null,
   "id": "b96e33ae-783e-4168-a4b2-fb5db4bdfc89",
   "metadata": {},
   "outputs": [],
   "source": [
    "'''\n",
    "Fill in the code to split into train and val test\n",
    "\n",
    "\n",
    "Note, to feed this as an input to an MLP, we need to flatten\n",
    "the pixel image dims, e.g, \n",
    "want X_tr, X_val to have shape (-1, 49).\n",
    "\n",
    "Feel free to transform to torch tensors at this point, eg., \n",
    "- X_tr, X_val : torch.FloatTensor\n",
    "- y_tr, y_val : torch.LongTensor\n",
    "\n",
    "'''\n",
    "\n",
    "X_tr = torch.FloatTensor(X_7x7[idx_tr]).reshape(-1,49)\n",
    "y_tr = torch.LongTensor(y_all[idx_tr])\n",
    "\n",
    "X_val = torch.FloatTensor(X_7x7[idx_val]).reshape(-1,49)\n",
    "y_val = torch.LongTensor(y_all[idx_val])\n",
    "\n",
    "assert (X_tr.shape[1]== 49) and (X_val.shape[1]== 49) \n"
   ]
  },
  {
   "cell_type": "markdown",
   "id": "9d38bc55-93b5-45ad-9355-2fbb7139c76a",
   "metadata": {},
   "source": [
    "**TO DO:** Build a linear model \n",
    "\n",
    "Apply a transformation to go from your 49 input features to the 10 output logit \"classes\"\n",
    "\n",
    "**Tip:** `nn.Linear`"
   ]
  },
  {
   "cell_type": "code",
   "execution_count": null,
   "id": "97ad3676-07f7-4097-9ae1-2067acf37957",
   "metadata": {},
   "outputs": [],
   "source": [
    "bs = 512\n",
    "\n",
    "'''\n",
    "TO DO : Your code here\n",
    "'''\n",
    "\n",
    "out"
   ]
  },
  {
   "cell_type": "code",
   "execution_count": null,
   "id": "67e37dda-a6e2-4e00-8f16-1e334795d1e6",
   "metadata": {},
   "outputs": [],
   "source": [
    "assert out.shape == (bs,10)"
   ]
  },
  {
   "cell_type": "code",
   "execution_count": null,
   "id": "753043a3-0aa7-4ea5-a7ab-0062f24f23e3",
   "metadata": {},
   "outputs": [],
   "source": []
  },
  {
   "cell_type": "code",
   "execution_count": null,
   "id": "6d456461-fdb7-4e6c-931f-dfb14322bb2a",
   "metadata": {},
   "outputs": [],
   "source": []
  },
  {
   "cell_type": "markdown",
   "id": "ab2c04ce-2813-4d81-b024-53a8b2b9dd88",
   "metadata": {},
   "source": [
    "**Task 2:** Appply the softmax nonlinearity to interpret these as logits.\n",
    "\n",
    "Look at the outputs, visualize in a histogram."
   ]
  },
  {
   "cell_type": "code",
   "execution_count": null,
   "id": "c83ae3ee-88b2-4a86-9c20-21cedfe3b0fb",
   "metadata": {},
   "outputs": [],
   "source": [
    "'''\n",
    "TO DO: Apply the Softmax function\n",
    "'''\n",
    "y_pred =  # your code here\n",
    "y_pred.min(), y_pred.max()"
   ]
  },
  {
   "cell_type": "code",
   "execution_count": null,
   "id": "0487159b-5cb9-442d-a0cf-fd50a80967a6",
   "metadata": {},
   "outputs": [],
   "source": [
    "# Visualize the outputs\n",
    "plt.hist(y_pred.detach().numpy().flatten(),100,log=True)\n",
    "plt.show()"
   ]
  },
  {
   "cell_type": "markdown",
   "id": "3b5b52af-52cb-48e3-98a0-2315a3f73411",
   "metadata": {},
   "source": [
    "**Q:** What do you think? Do the results make sense?"
   ]
  },
  {
   "cell_type": "markdown",
   "id": "e3e55569-c53b-4af3-a720-78cd050b5965",
   "metadata": {},
   "source": [
    "**Your answer:** "
   ]
  },
  {
   "cell_type": "markdown",
   "id": "bccd0eb7-5784-42ab-8f76-825cb2fc41d7",
   "metadata": {},
   "source": [
    "**Task 3:** Calculate the softmax probability of this batch _before training_ "
   ]
  },
  {
   "cell_type": "code",
   "execution_count": null,
   "id": "052a0a5d-aefd-406d-b6b0-cc8c6d19aef0",
   "metadata": {},
   "outputs": [],
   "source": [
    "'''\n",
    "TO DO: Fill in your code\n",
    "'''\n",
    "loss =\n",
    "loss.item()"
   ]
  },
  {
   "cell_type": "markdown",
   "id": "62897f3c-7f64-4c46-9e56-8c4a6a40a8f3",
   "metadata": {},
   "source": [
    "**Task 4:** Backprobagate through the loss and look at the gradients of the weights and biases... what do you think?"
   ]
  },
  {
   "cell_type": "code",
   "execution_count": null,
   "id": "b219957a-71af-4448-bd52-8b005deae4c8",
   "metadata": {},
   "outputs": [],
   "source": [
    "'''\n",
    "TO DO: Your code here\n",
    "'''"
   ]
  },
  {
   "cell_type": "markdown",
   "id": "5de3d955-38c7-4dc9-96fd-58ca07ae1478",
   "metadata": {},
   "source": [
    "**Your interpretation / analysis:**\n",
    "\n",
    "\n",
    "## Train the model\n",
    "\n",
    "Set up a train model to optimize the weights of the linear model to predict the correct MNIST class"
   ]
  },
  {
   "cell_type": "code",
   "execution_count": null,
   "id": "b94bb360-9c30-46ca-8813-a06c30699160",
   "metadata": {},
   "outputs": [],
   "source": [
    "# training loop\n",
    "\n",
    "losses = []\n",
    "\n",
    "opt = \n",
    "for i in range(10000):\n",
    "\n",
    "\n",
    "    '''\n",
    "    Your code here\n",
    "    '''\n",
    "    \n",
    "    losses.append(loss.item())"
   ]
  },
  {
   "cell_type": "code",
   "execution_count": null,
   "id": "cfee885b-ad4f-4ed0-ab13-81c8e404b60b",
   "metadata": {},
   "outputs": [],
   "source": [
    "# Look at the losses during training\n",
    "plt.plot(losses)"
   ]
  },
  {
   "cell_type": "markdown",
   "id": "7a31da42-1b57-4fc8-9136-2f656ed4425b",
   "metadata": {},
   "source": [
    "**Check the accuracy**"
   ]
  },
  {
   "cell_type": "code",
   "execution_count": null,
   "id": "de1866eb-86ac-4e25-ada7-240ab0b77c04",
   "metadata": {},
   "outputs": [],
   "source": [
    "# Now, eval on the train set\n",
    "\n",
    "\n",
    "'''\n",
    "TO DO: Your code here\n",
    "'''\n"
   ]
  },
  {
   "cell_type": "code",
   "execution_count": null,
   "id": "f814c440-f58a-48e8-89f7-f26a137cbb95",
   "metadata": {},
   "outputs": [],
   "source": [
    "# Now, eval on the val set\n",
    "\n",
    "\n",
    "'''\n",
    "TO DO: Your code here\n",
    "'''\n"
   ]
  },
  {
   "cell_type": "markdown",
   "id": "d19a72ff-086f-479f-910c-dbbe51579410",
   "metadata": {},
   "source": [
    "## Can we improve on this result??\n",
    "\n",
    "💡 Try to preprocess the inputs first\n",
    "\n",
    "- [ ] Visualize the current `X_tr` freatures\n",
    "- [ ] normalize to zero mean and unit variance\n",
    "- [ ] Visualize the new normalized `X_tr` again"
   ]
  },
  {
   "cell_type": "code",
   "execution_count": null,
   "id": "e62fe431-194d-4b65-879c-814ae44c18ce",
   "metadata": {},
   "outputs": [],
   "source": [
    "plt.hist( ... # your code here )\n",
    "plt.xlabel('X_tr',fontsize=16)\n",
    "plt.show()"
   ]
  },
  {
   "cell_type": "code",
   "execution_count": null,
   "id": "e74195c7-8d5b-4131-b50b-bea1ed71e27d",
   "metadata": {},
   "outputs": [],
   "source": [
    "mu = \n",
    "std = "
   ]
  },
  {
   "cell_type": "code",
   "execution_count": null,
   "id": "8bf20025-c8eb-4be3-9490-fdcdbc88702e",
   "metadata": {},
   "outputs": [],
   "source": [
    "X_tr_norm = \n",
    "X_val_norm = "
   ]
  },
  {
   "cell_type": "code",
   "execution_count": null,
   "id": "46139448-c600-4d01-ba3c-94bcd25f0594",
   "metadata": {},
   "outputs": [],
   "source": [
    "plt.hist( ... # your code here )\n",
    "plt.xlabel('X_tr_norm',fontsize=16)\n",
    "plt.show()"
   ]
  },
  {
   "cell_type": "markdown",
   "id": "0d3ae69f-dd8c-4ee1-81c7-f733155ca0ae",
   "metadata": {},
   "source": [
    "## Retrain with the preprocessed inputs\n",
    "\n",
    "Re-init a new linear layer and rinse and repeat."
   ]
  },
  {
   "cell_type": "code",
   "execution_count": null,
   "id": "4a982b33-4559-4ad6-8d1b-2c92b4617c0b",
   "metadata": {},
   "outputs": [],
   "source": [
    "'''\n",
    "Your code here\n",
    "'''"
   ]
  },
  {
   "cell_type": "markdown",
   "id": "cfc52ad8-459a-495f-8135-ef07bd104885",
   "metadata": {},
   "source": [
    "**What do you expect the loss to be _before_ training?**"
   ]
  },
  {
   "cell_type": "markdown",
   "id": "85da33dc-2b09-43dd-9a59-41c226acf36d",
   "metadata": {},
   "source": [
    "**Your answer:**"
   ]
  },
  {
   "cell_type": "markdown",
   "id": "a0b3b4b5-78bd-45cb-abae-ff27a907a977",
   "metadata": {},
   "source": [
    "**Test it out:** Look at your initial loss "
   ]
  },
  {
   "cell_type": "code",
   "execution_count": null,
   "id": "d5334d45-54f2-495b-a307-23ec0d999878",
   "metadata": {},
   "outputs": [],
   "source": [
    "'''\n",
    "Your code\n",
    "'''"
   ]
  },
  {
   "cell_type": "markdown",
   "id": "3163cc72-ac2e-4237-b44d-b7790c71d09e",
   "metadata": {},
   "source": [
    "**Does it agree with your expectation?**"
   ]
  },
  {
   "cell_type": "markdown",
   "id": "b87db058-b600-4cbc-8c81-80369a914fcd",
   "metadata": {},
   "source": [
    "**Your answer:**"
   ]
  },
  {
   "cell_type": "markdown",
   "id": "3f98db93-16e5-46c1-8eba-539923b66327",
   "metadata": {},
   "source": [
    "**Set up the training loop:**"
   ]
  },
  {
   "cell_type": "code",
   "execution_count": null,
   "id": "2856ff80-d4bd-4dfe-b7fd-21c5022253c4",
   "metadata": {},
   "outputs": [],
   "source": [
    "# training loop\n",
    "\n",
    "losses = []\n",
    "\n",
    "'''\n",
    "Your code\n",
    "'''\n",
    "\n",
    "\n",
    "for i in range(2000):\n",
    "\n",
    "\n",
    "    '''\n",
    "    Your coee\n",
    "    '''\n",
    "    \n",
    "    losses.append(loss.item())"
   ]
  },
  {
   "cell_type": "code",
   "execution_count": null,
   "id": "a9ef9b5e-4578-459b-870a-136ab9936c3d",
   "metadata": {},
   "outputs": [],
   "source": [
    "plt.plot(losses,color='C2')\n",
    "# plt.xscale('log')"
   ]
  },
  {
   "cell_type": "markdown",
   "id": "959204c8-ef22-4ae6-844f-23277b7de16d",
   "metadata": {},
   "source": [
    "**How does the loss c.f. before?:** \n",
    "\n",
    "**Your answer:**"
   ]
  },
  {
   "cell_type": "code",
   "execution_count": null,
   "id": "901cfa01-a5dd-45e1-a2a6-df9838858fd9",
   "metadata": {},
   "outputs": [],
   "source": [
    "'''\n",
    "TO DO: eval the acc on the train set\n",
    "'''\n"
   ]
  },
  {
   "cell_type": "code",
   "execution_count": null,
   "id": "bb5964af-aa3b-4cc4-ad0a-b3b88bc1338f",
   "metadata": {},
   "outputs": [],
   "source": [
    "'''\n",
    "TO DO: eval on the val set\n",
    "'''\n"
   ]
  },
  {
   "cell_type": "code",
   "execution_count": null,
   "id": "eaab9adf-26ff-4e3d-9029-67c4385b997b",
   "metadata": {},
   "outputs": [],
   "source": []
  },
  {
   "cell_type": "code",
   "execution_count": null,
   "id": "3026f293-0925-42fe-8ba6-e67aee6e073e",
   "metadata": {},
   "outputs": [],
   "source": []
  },
  {
   "cell_type": "code",
   "execution_count": null,
   "id": "1f1fe787-fb5a-42fa-9acc-bfb4fcbbd1c8",
   "metadata": {},
   "outputs": [],
   "source": [
    "'''\n",
    "TO DO: Predict the density of the model output scores (val set)\n",
    "'''\n",
    "\n",
    "pred = \n",
    "\n",
    "plt.hist(pred,10,(-.5,9.5),density=True)\n",
    "plt.xticks(np.arange(10))\n",
    "plt.hlines(.1,0,9,color='k',ls=':')\n",
    "plt.xlabel('Predicted class')\n",
    "plt.ylabel('Normalized entries')\n",
    "plt.show()"
   ]
  },
  {
   "cell_type": "markdown",
   "id": "8f0a2eca-cd57-4779-a70e-929435b51ede",
   "metadata": {},
   "source": [
    "**Next: Model interpretation:** Make a \"confusion matrix\" to vizualize which classes are getting confused?\n",
    "\n",
    "**Tip:** Look into `sklearn.metrics.ConfusionMatrixDisplay`\n"
   ]
  },
  {
   "cell_type": "code",
   "execution_count": null,
   "id": "f80af48d-8266-456e-85ec-8251d4127d7d",
   "metadata": {},
   "outputs": [],
   "source": [
    "from sklearn.metrics import confusion_matrix\n",
    "from sklearn.metrics import ConfusionMatrixDisplay"
   ]
  },
  {
   "cell_type": "code",
   "execution_count": null,
   "id": "91013764-1a0d-433d-8be7-ad8b9cb96c94",
   "metadata": {},
   "outputs": [],
   "source": [
    "# !pip install scikit-learn "
   ]
  },
  {
   "cell_type": "code",
   "execution_count": null,
   "id": "919b1455-8e91-4934-8011-11bc44834d6f",
   "metadata": {},
   "outputs": [],
   "source": []
  },
  {
   "cell_type": "code",
   "execution_count": null,
   "id": "b377882c-4824-46a2-93ad-cd42cfc7edd2",
   "metadata": {},
   "outputs": [],
   "source": [
    "# ?ConfusionMatrixDisplay.from_predictions"
   ]
  },
  {
   "cell_type": "code",
   "execution_count": null,
   "id": "56272261-21b9-420a-af74-fe64bbd2f7fa",
   "metadata": {},
   "outputs": [],
   "source": [
    "'''\n",
    "Your code here\n",
    "'''"
   ]
  },
  {
   "cell_type": "markdown",
   "id": "5a2bdbfe-0e23-4245-996a-99ed37886c1e",
   "metadata": {},
   "source": [
    "**What are you learning from this?**\n",
    "\n",
    "**Your answer:**\n"
   ]
  },
  {
   "cell_type": "markdown",
   "id": "0a0aa2b1-b515-4331-beda-c4a9b12ec1da",
   "metadata": {},
   "source": [
    "**Last step: NN architect:** Can you code up the `Softmax` yourself and cross check the performance with the `nn.Softmax` function?"
   ]
  },
  {
   "cell_type": "code",
   "execution_count": null,
   "id": "667e7496-e898-41e2-a43b-80b09be368e2",
   "metadata": {},
   "outputs": [],
   "source": [
    "'''\n",
    "TO DO: Your code here\n",
    "'''\n",
    "\n",
    "logit = \n",
    "out_torch = \n",
    "out_torch"
   ]
  },
  {
   "cell_type": "code",
   "execution_count": null,
   "id": "ab432bb6-53b6-48ba-b2f6-ad909e88e1e7",
   "metadata": {},
   "outputs": [],
   "source": [
    "'''\n",
    "TO DO: Your code here\n",
    "'''\n",
    "\n",
    "out_me = \n",
    "out_me"
   ]
  },
  {
   "cell_type": "code",
   "execution_count": null,
   "id": "e290b7b5-b6fa-4d8c-98f5-58b0dc14150f",
   "metadata": {},
   "outputs": [],
   "source": [
    "torch.isclose(out_torch,out_me)"
   ]
  },
  {
   "cell_type": "markdown",
   "id": "38b5bd72-d050-4c3a-acb2-fc3642ea25df",
   "metadata": {},
   "source": [
    "**Does it match?** why or why not?\n",
    "\n",
    "**Your answer:**"
   ]
  },
  {
   "cell_type": "code",
   "execution_count": null,
   "id": "1249632d-dcaf-4776-b32f-03b5c0c26fb8",
   "metadata": {},
   "outputs": [],
   "source": []
  },
  {
   "cell_type": "markdown",
   "id": "46d9b5de-654f-4711-a89c-9a031114161f",
   "metadata": {},
   "source": [
    "**Follow-up analysis:** In your own words, describe what you learned and key take-aways from this lesson.\n",
    "\n",
    "**Your answer:**"
   ]
  },
  {
   "cell_type": "code",
   "execution_count": null,
   "id": "630bafce-c8ae-45d4-a283-2497f1ba3b49",
   "metadata": {},
   "outputs": [],
   "source": []
  },
  {
   "cell_type": "code",
   "execution_count": null,
   "id": "5d01b50c-2953-48a2-94a7-f5862686b7fa",
   "metadata": {},
   "outputs": [],
   "source": []
  },
  {
   "cell_type": "code",
   "execution_count": null,
   "id": "da56d97c-1af0-4e46-bb77-c49f997eaced",
   "metadata": {},
   "outputs": [],
   "source": []
  }
 ],
 "metadata": {
  "kernelspec": {
   "display_name": "Python 3 (ipykernel)",
   "language": "python",
   "name": "python3"
  },
  "language_info": {
   "codemirror_mode": {
    "name": "ipython",
    "version": 3
   },
   "file_extension": ".py",
   "mimetype": "text/x-python",
   "name": "python",
   "nbconvert_exporter": "python",
   "pygments_lexer": "ipython3",
   "version": "3.12.8"
  }
 },
 "nbformat": 4,
 "nbformat_minor": 5
}
