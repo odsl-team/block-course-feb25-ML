{
 "cells": [
  {
   "cell_type": "markdown",
   "id": "0675d911",
   "metadata": {},
   "source": [
    "# Training Permutation-Invariant Networks\n"
   ]
  },
  {
   "cell_type": "markdown",
   "id": "1e42a09c",
   "metadata": {},
   "source": [
    "Today, we'll focus on permutation invariant neural networks. In general the answer here is graph neural networks but for this exercise we will focus on datasets that are just bags of objects, without any edges, i.e. `DeepSets` as discussed in the lecture."
   ]
  },
  {
   "cell_type": "markdown",
   "id": "9c04cabe",
   "metadata": {},
   "source": [
    "## Step 0: Some imports and creating the data"
   ]
  },
  {
   "cell_type": "code",
   "execution_count": 71,
   "id": "f0aa5975",
   "metadata": {},
   "outputs": [],
   "source": [
    "# Imports\n",
    "import os\n",
    "import random\n",
    "import numpy as np\n",
    "import scipy as scp\n",
    "import torch\n",
    "from torch import nn\n",
    "import torch.nn.functional as F\n",
    "from torch import optim\n",
    "from matplotlib import pyplot as plt\n",
    "import matplotlib as mpl\n",
    "\n",
    "# Set a seed for reproducibility\n",
    "seed = 42\n",
    "random.seed(seed)\n",
    "np.random.seed(seed)\n",
    "torch.manual_seed(seed)\n",
    "os.environ['PYTHONHASHSEED'] = str(seed)"
   ]
  },
  {
   "cell_type": "markdown",
   "id": "2084f9cb",
   "metadata": {},
   "source": [
    "### Dataset Structure\n",
    "\n",
    "First, let's create a data-generating function `make_data(N)` that produces the `N` instances following data \n",
    "\n",
    "* each instance has 10 objects\n",
    "* each object has 1 feature that either has value $x=0$ or a nonzero value $x!=0$\n",
    "* for data from class 0, a random subset of 3 objects has value 1/3\n",
    "* for data from class 1, a random subset of 5 objects has value 1/5\n",
    "\n",
    "The function `make_data(N)` should return a PyTorch feature matrix of shape `(N,10,1)` and a PyTorch label array of shape `(N,1)`"
   ]
  },
  {
   "cell_type": "code",
   "execution_count": 57,
   "id": "fd25db85",
   "metadata": {},
   "outputs": [],
   "source": [
    "def make_data(N):\n",
    "    total = 10  # Number of objects per instance; each instance has 10 objects\n",
    "\n",
    "    X = np.zeros((N, total))  # Initializes an N x total matrix of zeros for features\n",
    "\n",
    "    idx = np.random.choice(np.arange(N), size=(N//2,))  # Randomly selects half of the instances to belong to class 0\n",
    "\n",
    "    labels = []  # Initializes an empty list to store the labels for each instance\n",
    "\n",
    "    for i in range(N):  # Iterates over each instance\n",
    "        if i in idx:  # Checks if the current instance is designated to be of class 0\n",
    "            active = 3  # Sets the number of active objects for class 0 to 3\n",
    "            slots = np.random.choice(np.arange(total), size=(active,), replace=False)  # Randomly selects 3 unique objects to be active\n",
    "            X[i][slots] = 1/active  # Sets the value of the active objects to 1/3\n",
    "            labels.append(0)  # Appends the label 0 to the labels list\n",
    "        else:\n",
    "            active = 5  # Sets the number of active objects for class 1 to 5\n",
    "            slots = np.random.choice(np.arange(total), size=(active,), replace=False)  # Randomly selects 5 unique objects to be active\n",
    "            X[i][slots] = 1/active  # Sets the value of the active objects to 1/5\n",
    "            labels.append(1)  # Appends the label 1 to the labels list\n",
    "\n",
    "    labels = np.array(labels)  # Converts the labels list to a numpy array for better performance in PyTorch\n",
    "\n",
    "    return torch.FloatTensor(X.reshape(N, total, 1)), torch.FloatTensor(labels.reshape(-1, 1))  # Returns the feature matrix and label array, each reshaped for use in PyTorch\n",
    "\n",
    "X,y = make_data(100)"
   ]
  },
  {
   "cell_type": "code",
   "execution_count": 58,
   "id": "0daf2ce2",
   "metadata": {},
   "outputs": [
    {
     "name": "stdout",
     "output_type": "stream",
     "text": [
      "tensor([1.])\n"
     ]
    },
    {
     "data": {
      "image/png": "[encoded data removed]",
      "text/plain": [
       "<Figure size 864x144 with 1 Axes>"
      ]
     },
     "metadata": {
      "needs_background": "light"
     },
     "output_type": "display_data"
    }
   ],
   "source": [
    "plt.figure(figsize=(12, 2))\n",
    "plt.imshow(X[2].T, cmap='viridis', aspect='auto')\n",
    "plt.xticks([i for i in range(10)])\n",
    "print(y[0])\n",
    "plt.show()"
   ]
  },
  {
   "cell_type": "code",
   "execution_count": null,
   "id": "a8fb13d7",
   "metadata": {},
   "outputs": [],
   "source": []
  },
  {
   "cell_type": "markdown",
   "id": "f6092d34",
   "metadata": {},
   "source": [
    "\n",
    "\n",
    "##  Step 1: Creating the Models: Deepsets and MLP\n",
    "\n",
    "![Example Image](./deepset.jpg)\n",
    "\n",
    "Now we create two models that we want to compare:\n",
    "\n",
    "1. **DeepSet Model**\n",
    "2. **Standard MLP**\n",
    "\n",
    "### DeepSet Model\n",
    "\n",
    "The `DeepSet` model consists of two primary components:\n",
    "\n",
    "- **Element-wise Network**: This network processes each element of the input set independently, transforming the per-element features into a new representation. Implement this component as a small MLP, mapping $\\mathbb{R} \\to \\mathbb{R}$ with two hidden layers, each having 5 hidden units and `Tanh` activation functions.\n",
    "\n",
    "- **Global Set-wide Network**: A global set-wide network that takes the aggregated (pooled) representations of the objects and performs the final classification. You use a single hidden layer with also a small number of units and prepare the network for binary classification (i.e. use a sigmoid as the last operation)\n",
    "\n",
    "\n",
    "The DeepSet model can be formally described as follows:\n",
    "$$\n",
    "\\Phi(\\{x_1, x_2, ..., x_n\\}) = \\phi\\left(\\sum_{i=1}^{n} \\psi(x_i)\\right)\n",
    "$$\n",
    "Where:\n",
    "- $\\psi: \\mathbb{R} \\to \\mathbb{R}$ represents the element-wise network.\n",
    "- $\\phi$ represents the global set-wide network.\n",
    "- The summation is the sum aggregation (pooling) over the transformed elements.\n",
    "\n",
    "\n"
   ]
  },
  {
   "cell_type": "code",
   "execution_count": 123,
   "id": "f68ff010",
   "metadata": {},
   "outputs": [],
   "source": [
    "class DeepSet(nn.Module):\n",
    "    def __init__(self):\n",
    "        super(DeepSet, self).__init__()\n",
    "        # Define the element-wise transformation network (psi)\n",
    "        self.psi = nn.Sequential(\n",
    "            nn.Linear(1, 5),  # Input from each element of the set (since ch=1)\n",
    "            nn.Tanh(),\n",
    "            nn.Linear(5, 5),\n",
    "            nn.Tanh(),\n",
    "            nn.Linear(5, 1)  # Output the transformed element\n",
    "        )\n",
    "        \n",
    "        # Define the global set-wise network (phi)\n",
    "        self.phi = nn.Sequential(\n",
    "            nn.Linear(1, 5),  # Input is aggregated features from 10 elements\n",
    "            nn.Tanh(),\n",
    "            nn.Linear(5, 1),\n",
    "            nn.Sigmoid()  # Binary classification\n",
    "        )\n",
    "\n",
    "    def forward(self, x):\n",
    "        # x shape: [bs, num_points, ch] where bs = batch size, num_points = 10, ch = 1\n",
    "        \n",
    "        # Apply psi to each element in the set independently\n",
    "        x_transformed = self.psi(x)  # The psi network is applied element-wise #[100, 10, 1]\n",
    "        # Sum pooling over the elements of the set\n",
    "        x_pooled = x_transformed.sum(dim=1)  # Sum across the num_points dimension #out:[100, 1]\n",
    "        # Apply the global set-wise network phi\n",
    "        y = self.phi(x_pooled)  # The phi network processes the aggregated features\n",
    "        \n",
    "        return y\n"
   ]
  },
  {
   "cell_type": "code",
   "execution_count": 143,
   "id": "34eb4eec",
   "metadata": {},
   "outputs": [],
   "source": [
    "#TO REMOVE\n",
    "\n",
    "class DeepSet(nn.Module):\n",
    "    def __init__(self, agg_func):\n",
    "        super(DeepSet, self).__init__()\n",
    "        # Define the element-wise transformation network (psi)\n",
    "        self.psi = nn.Sequential(\n",
    "            nn.Linear(1, 5),  # Input from each element of the set (since ch=1)\n",
    "            nn.Tanh(),\n",
    "            nn.Linear(5, 5),\n",
    "            nn.Tanh(),\n",
    "            nn.Linear(5, 1)  # Output the transformed element\n",
    "        )\n",
    "        \n",
    "        # Define the global set-wise network (phi)\n",
    "        self.phi = nn.Sequential(\n",
    "            nn.Linear(1, 5),  # Input is aggregated features from 10 elements\n",
    "            nn.Tanh(),\n",
    "            nn.Linear(5, 1),\n",
    "            nn.Sigmoid()  # Binary classification\n",
    "        )\n",
    "\n",
    "        self.agg_func = agg_func  # new attribute for aggregation function\n",
    "\n",
    "    def forward(self, x):\n",
    "        # x shape: [bs, num_points, ch] where bs = batch size, num_points = 10, ch = 1\n",
    "    \n",
    "        # Apply psi to each element in the set independently\n",
    "        x_transformed = self.psi(x)  # The psi network is applied element-wise #[100, 10, 1]\n",
    "\n",
    "        if self.agg_func == 'max':\n",
    "            x_pooled = x_transformed.max(dim=1)[0]  # Use max\n",
    "        if self.agg_func == 'min':\n",
    "            x_pooled = x_transformed.min(dim=1)[0]  # Use min\n",
    "        if self.agg_func == 'mean':\n",
    "            x_pooled = x_transformed.mean(dim=1)  # Use mean\n",
    "        elif self.agg_func == 'std':\n",
    "            x_pooled = x_transformed.std(dim=1)  # Use std\n",
    "        else:\n",
    "            x_pooled = x_transformed.sum(dim=1)  # Default to sum\n",
    "\n",
    "        # Apply the global set-wise network phi\n",
    "        y = self.phi(x_pooled)  # The phi network processes the aggregated features\n",
    "        \n",
    "        return y"
   ]
  },
  {
   "cell_type": "markdown",
   "id": "173137dc",
   "metadata": {},
   "source": [
    "For the MLP, just use the following standard network architecture that you have already had in your past excercises:"
   ]
  },
  {
   "cell_type": "code",
   "execution_count": 144,
   "id": "cbe72271",
   "metadata": {},
   "outputs": [],
   "source": [
    "class MLP(nn.Module):\n",
    "    def __init__(self, input_size=10, Nhidden=5):\n",
    "        super(MLP, self).__init__()\n",
    "        self.network = nn.Sequential(\n",
    "            nn.Flatten(),\n",
    "            nn.Linear(input_size, Nhidden),\n",
    "            nn.ReLU(),\n",
    "            nn.Linear(Nhidden, Nhidden),\n",
    "            nn.ReLU(),\n",
    "            nn.Linear(Nhidden, 1),\n",
    "            nn.Sigmoid()\n",
    "        )\n",
    "\n",
    "    def forward(self, x):\n",
    "        return self.network(x)"
   ]
  },
  {
   "cell_type": "markdown",
   "id": "343d00b0",
   "metadata": {},
   "source": [
    "## Step 2: Writing the Training Loop\n",
    "\n",
    "Write a training loop that takes an untrained model and trains it for some number of steps (e.g. 2000)\n",
    "using the Adam optimizer. At each loop iteration, draw random data from `make_data` (this is effectively an infinitely large training dataset)\n",
    "\n",
    "\n",
    "* Train on binary cross entropy as a loss function.\n",
    "* As you are training, track the loss value\n",
    "* The `train(model)` function should return both the trained model as well as the loss history\n",
    "* Then, train both the Deep Set as well as the MLP!"
   ]
  },
  {
   "cell_type": "code",
   "execution_count": 145,
   "id": "2afd009a",
   "metadata": {},
   "outputs": [],
   "source": [
    "def train(model):\n",
    "    # Create an optimizer object, here Adam\n",
    "    opt = torch.optim.Adam(model.parameters(), 1e-3)\n",
    "    opt.zero_grad()\n",
    "    # Initialize a list to store the loss values at each training step, allowing us to visualize the loss trajectory later.\n",
    "    trajectory = []\n",
    "\n",
    "    # Loop over N iterations to train the model\n",
    "    for i in range(2000):\n",
    "        # Generate data on the fly\n",
    "        X, y = make_data(100)\n",
    "\n",
    "        # Forward pass: Compute the model's predictions for the input batch.\n",
    "        p = model(X)\n",
    "        # Compute the binary cross-entropy loss between the predictions and the true labels.\n",
    "        loss = torch.nn.functional.binary_cross_entropy(p, y)\n",
    "\n",
    "        # Record the loss value\n",
    "        trajectory.append(float(loss))\n",
    "        # Backward pass\n",
    "        loss.backward()\n",
    "        # Step the optimizer to update the model's parameters based on the gradients.\n",
    "        opt.step()\n",
    "        # Reset the gradients of all model parameters to zero for the next iteration.\n",
    "        opt.zero_grad()\n",
    "\n",
    "        # Every 500 iterations, print the current loss to monitor progress visually.\n",
    "        if i % 500 == 0:\n",
    "            print(float(loss))\n",
    "\n",
    "    # Return the trained model and the array of loss values collected during training.\n",
    "    return model, np.array(trajectory)\n"
   ]
  },
  {
   "cell_type": "code",
   "execution_count": 147,
   "id": "95549fe3",
   "metadata": {},
   "outputs": [
    {
     "name": "stdout",
     "output_type": "stream",
     "text": [
      "0.6875457167625427\n",
      "0.27000758051872253\n",
      "0.02936648763716221\n",
      "0.010599737986922264\n",
      "Training DeepSet is Finished!\n"
     ]
    }
   ],
   "source": [
    "trained_deepset,losscurve_deepset = train(DeepSet(agg_func='sum'))\n",
    "print('Training DeepSet is Finished!')\n",
    "trained_mlp,losscurve_mlp = train(MLP())\n",
    "print('Training MLP is Finished!')"
   ]
  },
  {
   "cell_type": "markdown",
   "id": "855d9134",
   "metadata": {},
   "source": [
    "## Step 3: Comparing MLP and DeepSet\n",
    "### Tasks:\n",
    "* Write a function `count_params(model)` that returns the number of parameters for the neural network\n",
    "* Compute the number of parameters for both trained models\n",
    "* Plot the loss curve for both the MLP as well as the DeepSet \n",
    "\n",
    "### Optional Hint or riddle ;):\n",
    "In a land where tensors thrive and dimensions intertwine, every element seeks to be counted, not for their size or shape, but for their sheer number. \n",
    "If you wish to count them all, from the smallest scalar to vast arrays, which PyTorch spell must you cast to reveal their total count?"
   ]
  },
  {
   "cell_type": "code",
   "execution_count": 136,
   "id": "51b9b6e1",
   "metadata": {},
   "outputs": [],
   "source": [
    "#TODO: Define the function count_params(model)\n",
    "def count_params(model):\n",
    "    return sum([p.numel() for p in model.parameters()])\n",
    "\n",
    "n_deepset = count_params(trained_deepset)\n",
    "n_mlp = count_params(trained_mlp)"
   ]
  },
  {
   "cell_type": "code",
   "execution_count": 137,
   "id": "50f39561",
   "metadata": {},
   "outputs": [
    {
     "data": {
      "image/png": "[encoded data removed]",
      "text/plain": [
       "<Figure size 720x432 with 1 Axes>"
      ]
     },
     "metadata": {
      "needs_background": "light"
     },
     "output_type": "display_data"
    }
   ],
   "source": [
    "# Plot\n",
    "plt.figure(figsize=(10, 6))\n",
    "plt.plot(losscurve_deepset, label=f'Deep Set ({n_deepset} pars)', color='blue', linestyle='-', linewidth=2, marker='o', markersize=5)\n",
    "plt.plot(losscurve_mlp, label=f'MLP ({n_mlp} pars)', color='green', linestyle='--', linewidth=2, marker='x', markersize=5)\n",
    "plt.title('Training Loss Curves for Deep Set vs. MLP', fontsize=16)\n",
    "plt.xlabel('Epoch', fontsize=14)\n",
    "plt.ylabel('Loss', fontsize=14)\n",
    "plt.legend(fontsize=12)\n",
    "plt.grid(True)\n",
    "plt.tight_layout()\n",
    "plt.show()\n"
   ]
  },
  {
   "cell_type": "markdown",
   "id": "5a59a39a",
   "metadata": {},
   "source": [
    "## Step 4: Experimenting with Aggregation Functions in DeepSet\n",
    "\n",
    "In this step, you will explore the impact of various aggregation functions on the performance of the DeepSet model. Aggregation functions play an important role in set-based neural architectures as global G-invariant pooling layers. \n",
    "The original DeepSet model incorporates sum operation to do the aggregation of information. \n",
    "\n",
    "#### Task:\n",
    "* Your task here is to think of at least two other aggregation functions instead and implement them. Then compare the results with the original DeepSet model. You can modify the original DeepSet model and add the following option to the model to input a control attribute on the aggregation function.\n",
    "\n",
    "\n",
    "**Example modifications to the DeepSet class**:\n",
    "```python\n",
    "class DeepSet(nn.Module):\n",
    "    def __init__(self, agg_func):\n",
    "        super(DeepSet, self).__init__()\n",
    "        self.psi = ...  # unchanged\n",
    "        self.phi = ...  # unchanged\n",
    "        self.agg_func = agg_func  # new attribute for aggregation function\n",
    "\n",
    "    def forward(self, x):\n",
    "        x_transformed = self.psi(x)\n",
    "        if self.agg_func == 'agg1':\n",
    "            x_aggregated = ...\n",
    "        elif self.agg_func == 'agg2':\n",
    "            x_aggregated = ...\n",
    "        else:\n",
    "            x_aggregated = x_transformed.sum(dim=1)  # Default to sum\n",
    "        y = self.phi(x_aggregated)\n",
    "        return y\n",
    "```\n",
    "\n"
   ]
  },
  {
   "cell_type": "code",
   "execution_count": null,
   "id": "d9005899",
   "metadata": {},
   "outputs": [],
   "source": [
    "#TO REMOVE\n",
    "\n",
    "class DeepSet(nn.Module):\n",
    "    def __init__(self, agg_func):\n",
    "        super(DeepSet, self).__init__()\n",
    "        # Define the element-wise transformation network (psi)\n",
    "        self.psi = nn.Sequential(\n",
    "            nn.Linear(1, 5),  # Input from each element of the set (since ch=1)\n",
    "            nn.Tanh(),\n",
    "            nn.Linear(5, 5),\n",
    "            nn.Tanh(),\n",
    "            nn.Linear(5, 1)  # Output the transformed element\n",
    "        )\n",
    "        \n",
    "        # Define the global set-wise network (phi)\n",
    "        self.phi = nn.Sequential(\n",
    "            nn.Linear(1, 5),  # Input is aggregated features from 10 elements\n",
    "            nn.Tanh(),\n",
    "            nn.Linear(5, 1),\n",
    "            nn.Sigmoid()  # Binary classification\n",
    "        )\n",
    "\n",
    "        self.agg_func = agg_func  # new attribute for aggregation function\n",
    "\n",
    "    def forward(self, x):\n",
    "        # x shape: [bs, num_points, ch] where bs = batch size, num_points = 10, ch = 1\n",
    "    \n",
    "        # Apply psi to each element in the set independently\n",
    "        x_transformed = self.psi(x)  # The psi network is applied element-wise #[100, 10, 1]\n",
    "\n",
    "        if self.agg_func == 'max':\n",
    "            x_pooled = x_transformed.max(dim=1)[0]  # Use max\n",
    "        if self.agg_func == 'min':\n",
    "            x_pooled = x_transformed.min(dim=1)[0]  # Use min\n",
    "        if self.agg_func == 'mean':\n",
    "            x_pooled = x_transformed.mean(dim=1)  # Use mean\n",
    "        elif self.agg_func == 'std':\n",
    "            x_pooled = x_transformed.std(dim=1)  # Use std\n",
    "        else:\n",
    "            x_pooled = x_transformed.sum(dim=1)  # Default to sum\n",
    "\n",
    "        # Apply the global set-wise network phi\n",
    "        y = self.phi(x_pooled)  # The phi network processes the aggregated features\n",
    "        \n",
    "        return y"
   ]
  },
  {
   "cell_type": "markdown",
   "id": "d0ec9873",
   "metadata": {},
   "source": [
    "## Step 5: Verify the Permutation Invariance\n",
    "\n",
    "The advantage of encoding known symmetries into the network is not only that the learning is faster but of course also that the symmetries hold exactly.\n",
    "\n",
    "* Take an sample of the data and produce 3 random permutations of the point in it via `np.random.permutation`\n",
    "* Evaluate the model on each of these permuted inputs\n",
    "* Compare  he model outputs and deduce that the deep set is indeed permutation invariant, while the MLP is not"
   ]
  },
  {
   "cell_type": "code",
   "execution_count": 118,
   "id": "fda3c6e5",
   "metadata": {},
   "outputs": [
    {
     "name": "stdout",
     "output_type": "stream",
     "text": [
      "For DeepSets\n",
      "tensor([[0.9977]])\n",
      "tensor([[0.9977]])\n",
      "tensor([[0.9977]])\n",
      "For MLP\n",
      "tensor([[0.4158]])\n",
      "tensor([[0.6421]])\n",
      "tensor([[0.6554]])\n"
     ]
    }
   ],
   "source": [
    "# Randomly permutes indices from 0 to 9, generating a new order for the elements of the sample.\n",
    "perm0 = np.random.permutation(10)\n",
    "perm1 = np.random.permutation(10)\n",
    "perm2 = np.random.permutation(10)\n",
    "\n",
    "# Selects the first instance from the dataset `X`, applies the first permutation, and reshapes it to match model input requirements.\n",
    "testX1 = torch.FloatTensor(X[0][perm0]).reshape(1,10,1)\n",
    "# Same as above but applies the second permutation to the first instance.\n",
    "testX2 = torch.FloatTensor(X[0][perm1]).reshape(1,10,1)\n",
    "# Same as above but applies the third permutation to the first instance.\n",
    "testX3 = torch.FloatTensor(X[0][perm2]).reshape(1,10,1)\n",
    "\n",
    "print('For DeepSets')\n",
    "for XX in [testX1,testX2,testX3]:\n",
    "    print(trained_deepset(XX).detach())\n",
    "\n",
    "print('For MLP')\n",
    "for XX in [testX1,testX2,testX3]:\n",
    "    print(trained_mlp(XX).detach())\n"
   ]
  },
  {
   "cell_type": "markdown",
   "id": "d1c77b0a",
   "metadata": {},
   "source": [
    "## Step 6: Bonus Question\n",
    "\n",
    "* Remember the Geometric Deep Learning Blueprint. Non-linearity was also a crucial factor. In roder to see this, in the DeepSet try removing the non-Linearity in the element wise network and check the model performance. Can you explain what is happening and why?"
   ]
  },
  {
   "cell_type": "markdown",
   "id": "7d3a7a64",
   "metadata": {},
   "source": []
  }
 ],
 "metadata": {
  "kernelspec": {
   "display_name": "Python 3 (ipykernel)",
   "language": "python",
   "name": "python3"
  },
  "language_info": {
   "codemirror_mode": {
    "name": "ipython",
    "version": 3
   },
   "file_extension": ".py",
   "mimetype": "text/x-python",
   "name": "python",
   "nbconvert_exporter": "python",
   "pygments_lexer": "ipython3",
   "version": "3.11.0"
  }
 },
 "nbformat": 4,
 "nbformat_minor": 5
}
