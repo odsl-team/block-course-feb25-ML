{
 "cells": [
  {
   "cell_type": "markdown",
   "id": "c50f6673-3c13-45ab-b981-c2b9c2aecd5e",
   "metadata": {},
   "source": [
    "# Tutorial 1: Regression\n",
    "\n",
    "👋 Welcome to the first tutorial!\n",
    "\n",
    "Today we discussed the **key concepts** of ML, as encapsulated in our graphic.\n",
    "\n",
    "<img src=\"../figures/ml-key-ideas.jpg\" width=400>\n",
    "\n",
    "In particular, we were focusing on **supervised learning** where we have labeled datapoints, $(x,y)$, where $x^{(i)} \\in \\mathbb{R}^d$ are the data examples, and $y^{(i)}$ are the labels.\n",
    "\n",
    "In this tutorial, we'll implement each of the boxes in is graphic for a **regression problem**, namely the housing prices dataset that we discussed in the lecture."
   ]
  },
  {
   "cell_type": "markdown",
   "id": "a82e5e6a-84a6-4ef8-861e-4f4608bb2561",
   "metadata": {},
   "source": [
    "**Table of contents:**\n",
    "- <span style=\"color:dimgray\"> **Q1:** Data visualization </span>\n",
    "- <span style=\"color:purple\"> **Q2:** Hypothesis class: linear models  </span>\n",
    "- <span style=\"color:blue\"> **Q3:** Loss function, MSE </span>\n",
    "- <span style=\"color:turquoise\"> **Q4:** Learning (fitting the model) </span>\n",
    "- <span style=\"color:gold\"> **Q5:** Analysis of results</span>"
   ]
  },
  {
   "cell_type": "markdown",
   "id": "99abc8ec-52e8-4e41-81e6-b45161825cca",
   "metadata": {},
   "source": [
    "**Step 0:** Download the dataset"
   ]
  },
  {
   "cell_type": "code",
   "execution_count": 1,
   "id": "1c256967-2922-4098-b3a5-b48f69aba898",
   "metadata": {
    "scrolled": true
   },
   "outputs": [],
   "source": [
    "# # If kagglehub not in your local env, download it here\n",
    "# !pip install kagglehub"
   ]
  },
  {
   "cell_type": "code",
   "execution_count": 2,
   "id": "7cfb651d-9a24-41dd-9e7a-da0c9d9bb42b",
   "metadata": {},
   "outputs": [],
   "source": [
    "# imports\n",
    "import kagglehub\n",
    "import os\n",
    "\n",
    "import pandas as pd\n",
    "import numpy as np\n",
    "import matplotlib.pyplot as plt"
   ]
  },
  {
   "cell_type": "code",
   "execution_count": 3,
   "id": "6af248d8-ab73-437f-b773-26097bf7103f",
   "metadata": {},
   "outputs": [
    {
     "name": "stdout",
     "output_type": "stream",
     "text": [
      "../data//Housing.csv already downloaded\n"
     ]
    }
   ],
   "source": [
    "# Download the dataset \n",
    "dataDir = '../data/'\n",
    "fname = f'{dataDir}/Housing.csv'\n",
    "\n",
    "if not os.path.exists(fname):\n",
    "    # Download the dataset\n",
    "    path = kagglehub.dataset_download(\"yasserh/housing-prices-dataset\")\n",
    "    print(\"Path to dataset files:\", path)\n",
    "    \n",
    "    # Move the file to my data folder\n",
    "    os.system(f'mv {path}/Housing.csv {dataDir}/.')\n",
    "else:\n",
    "    print(fname, 'already downloaded')\n"
   ]
  },
  {
   "cell_type": "markdown",
   "id": "e927d6c3-b187-43c9-9837-8388fab5ea9e",
   "metadata": {},
   "source": [
    "### <span style=\"color:dimgray\"> 1. Data visualization </span>\n",
    "\n",
    "Let's open up the file and see what's inside!\n"
   ]
  },
  {
   "cell_type": "code",
   "execution_count": 4,
   "id": "4fb4a041-1be8-4c08-ba2b-7e0b65aabd9d",
   "metadata": {},
   "outputs": [],
   "source": [
    "df = pd.read_csv(fname)\n",
    "df.index = np.arange(1,len(df)+1) # reset the index to start from 1\n",
    "\n",
    "x_cols = df.columns[1:]"
   ]
  },
  {
   "cell_type": "code",
   "execution_count": 5,
   "id": "8767004b-ba55-4ba7-98b9-f947bdfd2cee",
   "metadata": {},
   "outputs": [
    {
     "data": {
      "text/html": [
       "<div>\n",
       "<style scoped>\n",
       "    .dataframe tbody tr th:only-of-type {\n",
       "        vertical-align: middle;\n",
       "    }\n",
       "\n",
       "    .dataframe tbody tr th {\n",
       "        vertical-align: top;\n",
       "    }\n",
       "\n",
       "    .dataframe thead th {\n",
       "        text-align: right;\n",
       "    }\n",
       "</style>\n",
       "<table border=\"1\" class=\"dataframe\">\n",
       "  <thead>\n",
       "    <tr style=\"text-align: right;\">\n",
       "      <th></th>\n",
       "      <th>price</th>\n",
       "      <th>area</th>\n",
       "      <th>bedrooms</th>\n",
       "      <th>bathrooms</th>\n",
       "      <th>stories</th>\n",
       "      <th>mainroad</th>\n",
       "      <th>guestroom</th>\n",
       "      <th>basement</th>\n",
       "      <th>hotwaterheating</th>\n",
       "      <th>airconditioning</th>\n",
       "      <th>parking</th>\n",
       "      <th>prefarea</th>\n",
       "      <th>furnishingstatus</th>\n",
       "    </tr>\n",
       "  </thead>\n",
       "  <tbody>\n",
       "    <tr>\n",
       "      <th>1</th>\n",
       "      <td>13300000</td>\n",
       "      <td>7420</td>\n",
       "      <td>4</td>\n",
       "      <td>2</td>\n",
       "      <td>3</td>\n",
       "      <td>yes</td>\n",
       "      <td>no</td>\n",
       "      <td>no</td>\n",
       "      <td>no</td>\n",
       "      <td>yes</td>\n",
       "      <td>2</td>\n",
       "      <td>yes</td>\n",
       "      <td>furnished</td>\n",
       "    </tr>\n",
       "    <tr>\n",
       "      <th>2</th>\n",
       "      <td>12250000</td>\n",
       "      <td>8960</td>\n",
       "      <td>4</td>\n",
       "      <td>4</td>\n",
       "      <td>4</td>\n",
       "      <td>yes</td>\n",
       "      <td>no</td>\n",
       "      <td>no</td>\n",
       "      <td>no</td>\n",
       "      <td>yes</td>\n",
       "      <td>3</td>\n",
       "      <td>no</td>\n",
       "      <td>furnished</td>\n",
       "    </tr>\n",
       "    <tr>\n",
       "      <th>3</th>\n",
       "      <td>12250000</td>\n",
       "      <td>9960</td>\n",
       "      <td>3</td>\n",
       "      <td>2</td>\n",
       "      <td>2</td>\n",
       "      <td>yes</td>\n",
       "      <td>no</td>\n",
       "      <td>yes</td>\n",
       "      <td>no</td>\n",
       "      <td>no</td>\n",
       "      <td>2</td>\n",
       "      <td>yes</td>\n",
       "      <td>semi-furnished</td>\n",
       "    </tr>\n",
       "    <tr>\n",
       "      <th>4</th>\n",
       "      <td>12215000</td>\n",
       "      <td>7500</td>\n",
       "      <td>4</td>\n",
       "      <td>2</td>\n",
       "      <td>2</td>\n",
       "      <td>yes</td>\n",
       "      <td>no</td>\n",
       "      <td>yes</td>\n",
       "      <td>no</td>\n",
       "      <td>yes</td>\n",
       "      <td>3</td>\n",
       "      <td>yes</td>\n",
       "      <td>furnished</td>\n",
       "    </tr>\n",
       "    <tr>\n",
       "      <th>5</th>\n",
       "      <td>11410000</td>\n",
       "      <td>7420</td>\n",
       "      <td>4</td>\n",
       "      <td>1</td>\n",
       "      <td>2</td>\n",
       "      <td>yes</td>\n",
       "      <td>yes</td>\n",
       "      <td>yes</td>\n",
       "      <td>no</td>\n",
       "      <td>yes</td>\n",
       "      <td>2</td>\n",
       "      <td>no</td>\n",
       "      <td>furnished</td>\n",
       "    </tr>\n",
       "  </tbody>\n",
       "</table>\n",
       "</div>"
      ],
      "text/plain": [
       "      price  area  bedrooms  bathrooms  stories mainroad guestroom basement  \\\n",
       "1  13300000  7420         4          2        3      yes        no       no   \n",
       "2  12250000  8960         4          4        4      yes        no       no   \n",
       "3  12250000  9960         3          2        2      yes        no      yes   \n",
       "4  12215000  7500         4          2        2      yes        no      yes   \n",
       "5  11410000  7420         4          1        2      yes       yes      yes   \n",
       "\n",
       "  hotwaterheating airconditioning  parking prefarea furnishingstatus  \n",
       "1              no             yes        2      yes        furnished  \n",
       "2              no             yes        3       no        furnished  \n",
       "3              no              no        2      yes   semi-furnished  \n",
       "4              no             yes        3      yes        furnished  \n",
       "5              no             yes        2       no        furnished  "
      ]
     },
     "execution_count": 5,
     "metadata": {},
     "output_type": "execute_result"
    }
   ],
   "source": [
    "df.head()"
   ]
  },
  {
   "cell_type": "code",
   "execution_count": 6,
   "id": "84ec8a59-e9c0-48bd-808d-8781cbaa59a8",
   "metadata": {},
   "outputs": [
    {
     "data": {
      "text/plain": [
       "545"
      ]
     },
     "execution_count": 6,
     "metadata": {},
     "output_type": "execute_result"
    }
   ],
   "source": [
    "len(df)"
   ]
  },
  {
   "cell_type": "markdown",
   "id": "c9386f96-cb69-4a63-94de-1ae40cda02e4",
   "metadata": {},
   "source": [
    "OK, for a regression problem, the target $y$ is the `price`, and the other columns in the df (`area`, `bedrooms`, ...) are the **features** for our data $x$.\n",
    "\n",
    "How to represent? Let $x \\in \\mathbb{R}^{12}$, where $x_1 = \\mathrm{area}$, $x_2 = \\mathrm{bedrooms}$, ...\n",
    "\n",
    "There are 545 entries in this dataset."
   ]
  },
  {
   "cell_type": "code",
   "execution_count": 7,
   "id": "c2c8c862-5697-41cc-9f0f-418c32b7f75f",
   "metadata": {},
   "outputs": [],
   "source": [
    "# Note, there's been quite some inflation, so let's represnet the labels in units of $1M.\n",
    "df['price ($1M)'] = df['price'] / int(1e6)"
   ]
  },
  {
   "cell_type": "markdown",
   "id": "020964ac-e558-48ae-9937-7e7a14c3a8af",
   "metadata": {},
   "source": [
    "**EDA:** Event Data Analysis\n",
    "\n",
    "Reproduced below are some of plots that we already saw in the lecture today."
   ]
  },
  {
   "cell_type": "code",
   "execution_count": 8,
   "id": "41294958-bdd6-47c5-a353-59b3f3dfdc8e",
   "metadata": {},
   "outputs": [
    {
     "data": {
      "text/plain": [
       "Text(0.5, 1.0, 'Target labels $y$')"
      ]
     },
     "execution_count": 8,
     "metadata": {},
     "output_type": "execute_result"
    },
    {
     "data": {
      "image/png": "[encoded data removed]",
      "text/plain": [
       "<Figure size 640x480 with 1 Axes>"
      ]
     },
     "metadata": {},
     "output_type": "display_data"
    }
   ],
   "source": [
    "col = 'price ($1M)'\n",
    "\n",
    "plt.hist(df[col],color='salmon')\n",
    "plt.xlabel(col,fontsize=15)\n",
    "plt.ylabel('Events',fontsize=15)\n",
    "plt.title('Target labels $y$')"
   ]
  },
  {
   "cell_type": "code",
   "execution_count": null,
   "id": "e1b87d83-e317-41e9-8123-e1399518fa91",
   "metadata": {},
   "outputs": [],
   "source": []
  },
  {
   "cell_type": "code",
   "execution_count": null,
   "id": "2bb922e2-14a2-43da-b4c7-402a15861cf7",
   "metadata": {},
   "outputs": [],
   "source": []
  },
  {
   "cell_type": "markdown",
   "id": "1c9dc7e3-daca-4890-843f-fba9e0faeb5e",
   "metadata": {},
   "source": [
    "**Next:** Correlation between the input features $x_j$ and the labels $y$.\n",
    "\n",
    "Let's look at the variables we want to fit!\n",
    "\n",
    "I showed you in lecture already the correlation b/w housing area and price."
   ]
  },
  {
   "cell_type": "code",
   "execution_count": 9,
   "id": "2efa9340-8cee-4546-b1c1-1ed822a5fcc4",
   "metadata": {},
   "outputs": [
    {
     "data": {
      "image/png": "[encoded data removed]",
      "text/plain": [
       "<Figure size 640x480 with 1 Axes>"
      ]
     },
     "metadata": {},
     "output_type": "display_data"
    }
   ],
   "source": [
    "plt.scatter(df['area'],df['price ($1M)'],marker='x',color='b')\n",
    "plt.xlabel('area (ft$^2$)',fontsize=16)\n",
    "plt.ylabel('price [$1M]',fontsize=16)\n",
    "plt.show()"
   ]
  },
  {
   "cell_type": "markdown",
   "id": "74aff50a-9e42-4a59-9b5b-f05854e350bc",
   "metadata": {},
   "source": [
    "**Q1: Your turn:** plot the rest of the input features.\n",
    "\n",
    "**Potentially useful numpy / pandas dataframes functions:**\n",
    "- `np.where`\n",
    "- df[`col_name`].unique()"
   ]
  },
  {
   "cell_type": "markdown",
   "id": "a63cfd82-17ff-45d0-ae26-64b6bac4c8f2",
   "metadata": {},
   "source": [
    "<span style=\"color:blue\"> **Soln:** As visualized below, we have some different features, but also interesingly, we have some features that _aren't_ represented as integers already, e.g, `mainroad`, `guestroom`, `hotwaterheating`, `airconditioning`, `prefarea` are all booleans (yes / no).\n",
    "</span>"
   ]
  },
  {
   "cell_type": "code",
   "execution_count": 10,
   "id": "c8f32608-6ad2-41a0-b91e-3c043ad9a486",
   "metadata": {},
   "outputs": [
    {
     "data": {
      "text/html": [
       "<div>\n",
       "<style scoped>\n",
       "    .dataframe tbody tr th:only-of-type {\n",
       "        vertical-align: middle;\n",
       "    }\n",
       "\n",
       "    .dataframe tbody tr th {\n",
       "        vertical-align: top;\n",
       "    }\n",
       "\n",
       "    .dataframe thead th {\n",
       "        text-align: right;\n",
       "    }\n",
       "</style>\n",
       "<table border=\"1\" class=\"dataframe\">\n",
       "  <thead>\n",
       "    <tr style=\"text-align: right;\">\n",
       "      <th></th>\n",
       "      <th>price</th>\n",
       "      <th>area</th>\n",
       "      <th>bedrooms</th>\n",
       "      <th>bathrooms</th>\n",
       "      <th>stories</th>\n",
       "      <th>mainroad</th>\n",
       "      <th>guestroom</th>\n",
       "      <th>basement</th>\n",
       "      <th>hotwaterheating</th>\n",
       "      <th>airconditioning</th>\n",
       "      <th>parking</th>\n",
       "      <th>prefarea</th>\n",
       "      <th>furnishingstatus</th>\n",
       "      <th>price ($1M)</th>\n",
       "    </tr>\n",
       "  </thead>\n",
       "  <tbody>\n",
       "    <tr>\n",
       "      <th>1</th>\n",
       "      <td>13300000</td>\n",
       "      <td>7420</td>\n",
       "      <td>4</td>\n",
       "      <td>2</td>\n",
       "      <td>3</td>\n",
       "      <td>yes</td>\n",
       "      <td>no</td>\n",
       "      <td>no</td>\n",
       "      <td>no</td>\n",
       "      <td>yes</td>\n",
       "      <td>2</td>\n",
       "      <td>yes</td>\n",
       "      <td>furnished</td>\n",
       "      <td>13.300</td>\n",
       "    </tr>\n",
       "    <tr>\n",
       "      <th>2</th>\n",
       "      <td>12250000</td>\n",
       "      <td>8960</td>\n",
       "      <td>4</td>\n",
       "      <td>4</td>\n",
       "      <td>4</td>\n",
       "      <td>yes</td>\n",
       "      <td>no</td>\n",
       "      <td>no</td>\n",
       "      <td>no</td>\n",
       "      <td>yes</td>\n",
       "      <td>3</td>\n",
       "      <td>no</td>\n",
       "      <td>furnished</td>\n",
       "      <td>12.250</td>\n",
       "    </tr>\n",
       "    <tr>\n",
       "      <th>3</th>\n",
       "      <td>12250000</td>\n",
       "      <td>9960</td>\n",
       "      <td>3</td>\n",
       "      <td>2</td>\n",
       "      <td>2</td>\n",
       "      <td>yes</td>\n",
       "      <td>no</td>\n",
       "      <td>yes</td>\n",
       "      <td>no</td>\n",
       "      <td>no</td>\n",
       "      <td>2</td>\n",
       "      <td>yes</td>\n",
       "      <td>semi-furnished</td>\n",
       "      <td>12.250</td>\n",
       "    </tr>\n",
       "    <tr>\n",
       "      <th>4</th>\n",
       "      <td>12215000</td>\n",
       "      <td>7500</td>\n",
       "      <td>4</td>\n",
       "      <td>2</td>\n",
       "      <td>2</td>\n",
       "      <td>yes</td>\n",
       "      <td>no</td>\n",
       "      <td>yes</td>\n",
       "      <td>no</td>\n",
       "      <td>yes</td>\n",
       "      <td>3</td>\n",
       "      <td>yes</td>\n",
       "      <td>furnished</td>\n",
       "      <td>12.215</td>\n",
       "    </tr>\n",
       "    <tr>\n",
       "      <th>5</th>\n",
       "      <td>11410000</td>\n",
       "      <td>7420</td>\n",
       "      <td>4</td>\n",
       "      <td>1</td>\n",
       "      <td>2</td>\n",
       "      <td>yes</td>\n",
       "      <td>yes</td>\n",
       "      <td>yes</td>\n",
       "      <td>no</td>\n",
       "      <td>yes</td>\n",
       "      <td>2</td>\n",
       "      <td>no</td>\n",
       "      <td>furnished</td>\n",
       "      <td>11.410</td>\n",
       "    </tr>\n",
       "  </tbody>\n",
       "</table>\n",
       "</div>"
      ],
      "text/plain": [
       "      price  area  bedrooms  bathrooms  stories mainroad guestroom basement  \\\n",
       "1  13300000  7420         4          2        3      yes        no       no   \n",
       "2  12250000  8960         4          4        4      yes        no       no   \n",
       "3  12250000  9960         3          2        2      yes        no      yes   \n",
       "4  12215000  7500         4          2        2      yes        no      yes   \n",
       "5  11410000  7420         4          1        2      yes       yes      yes   \n",
       "\n",
       "  hotwaterheating airconditioning  parking prefarea furnishingstatus  \\\n",
       "1              no             yes        2      yes        furnished   \n",
       "2              no             yes        3       no        furnished   \n",
       "3              no              no        2      yes   semi-furnished   \n",
       "4              no             yes        3      yes        furnished   \n",
       "5              no             yes        2       no        furnished   \n",
       "\n",
       "   price ($1M)  \n",
       "1       13.300  \n",
       "2       12.250  \n",
       "3       12.250  \n",
       "4       12.215  \n",
       "5       11.410  "
      ]
     },
     "execution_count": 10,
     "metadata": {},
     "output_type": "execute_result"
    }
   ],
   "source": [
    "'''\n",
    "SOLN\n",
    "'''\n",
    "df.head()"
   ]
  },
  {
   "cell_type": "markdown",
   "id": "fdc644dd-bcbc-40ba-9c14-78b8de3d3aa3",
   "metadata": {},
   "source": [
    "<span style=\"color:blue\"> **Soln:** And `furnishing status` is a categorical variable (three options eist).\n",
    "</span>"
   ]
  },
  {
   "cell_type": "code",
   "execution_count": 11,
   "id": "e177857d-8dfa-4495-a15e-96af88d8e980",
   "metadata": {},
   "outputs": [
    {
     "data": {
      "text/plain": [
       "array(['furnished', 'semi-furnished', 'unfurnished'], dtype=object)"
      ]
     },
     "execution_count": 11,
     "metadata": {},
     "output_type": "execute_result"
    }
   ],
   "source": [
    "df['furnishingstatus'].unique()"
   ]
  },
  {
   "cell_type": "markdown",
   "id": "83a74fc3-ee40-44dd-ae1a-d2abf642c424",
   "metadata": {},
   "source": [
    "<span style=\"color:blue\"> **Soln:** Represent boolean variables as (0,1) and the categorical variable as (0,1,2).\n",
    "</span>"
   ]
  },
  {
   "cell_type": "code",
   "execution_count": 12,
   "id": "8d7f4ad3-e3b4-4d79-ad22-e329b2f48311",
   "metadata": {},
   "outputs": [
    {
     "name": "stdout",
     "output_type": "stream",
     "text": [
      "0 furnished\n",
      "1 semi-furnished\n",
      "2 unfurnished\n",
      "[0 0 1 0 0 1 1 2 0 2 0 1 1 0 1 1 2 0 0 1 1 2 0 0 0 0 1 1 2 1 2 1 0 2 0 0 0\n",
      " 0 2 1 0 0 2 1 0 1 0 0 2 1 2 2 0 1 1 2 1 0 1 0 1 1 0 0 0 0 0 2 0 0 1 2 2 0\n",
      " 0 1 0 0 0 0 1 1 0 1 1 0 2 1 2 0 1 0 0 1 1 1 0 1 2 2 2 2 1 0 0 2 1 2 1 1 1\n",
      " 2 0 0 0 1 2 0 0 1 0 1 1 0 0 1 2 2 0 1 2 1 1 2 1 2 2 1 1 0 2 1 1 2 0 0 1 1\n",
      " 1 1 2 1 0 1 1 0 1 0 1 0 0 1 1 1 0 2 2 1 0 1 1 1 2 2 2 1 0 1 1 1 1 0 1 1 0\n",
      " 2 0 1 2 1 0 1 0 1 1 1 1 1 1 0 1 1 1 1 1 1 1 1 1 2 1 0 1 1 2 2 1 0 1 2 1 1\n",
      " 1 0 2 1 1 0 1 1 1 1 0 2 1 1 1 1 1 0 1 1 0 0 1 2 1 2 1 0 1 1 1 0 1 2 0 0 1\n",
      " 0 0 1 1 1 1 1 2 1 1 2 0 1 1 0 1 0 1 1 1 0 2 0 2 0 0 1 0 2 2 1 1 2 1 2 1 1\n",
      " 1 2 1 0 1 1 2 0 1 1 1 1 1 1 1 1 0 1 1 1 2 2 1 1 0 1 0 1 1 1 2 1 1 0 2 0 1\n",
      " 1 0 0 1 2 1 0 1 1 0 1 1 1 1 2 1 1 1 1 2 0 0 0 0 0 1 2 1 1 0 1 1 0 0 2 1 0\n",
      " 1 1 1 0 1 2 1 2 1 2 1 1 0 0 0 2 2 1 2 1 2 1 1 2 2 2 1 0 2 1 2 2 2 2 2 2 2\n",
      " 0 2 2 2 0 2 2 2 0 2 0 2 1 2 2 2 2 1 0 0 0 2 2 2 2 0 1 1 2 0 2 1 2 2 2 2 2\n",
      " 0 0 2 1 1 2 1 1 1 2 2 2 1 2 2 2 2 2 1 2 1 2 1 1 1 0 2 2 1 2 2 1 2 2 2 2 1\n",
      " 0 2 1 2 2 1 2 2 1 2 0 2 0 2 2 2 2 1 2 2 2 1 1 2 2 2 2 2 0 2 2 0 2 1 2 2 2\n",
      " 2 2 2 2 0 0 2 2 2 1 2 2 2 2 2 2 2 2 2 2 2 2 2 1 2 0 2]\n"
     ]
    }
   ],
   "source": [
    "'''\n",
    "SOLN: Demonstrating how to code up this categorical variable\n",
    "'''\n",
    "\n",
    "x_cat = np.zeros_like(df['furnishingstatus'])\n",
    "\n",
    "for k, case in enumerate(df['furnishingstatus'].unique()):\n",
    "    print(k,case)\n",
    "\n",
    "    x_cat[df['furnishingstatus']==case] = k\n",
    "\n",
    "print(x_cat)"
   ]
  },
  {
   "cell_type": "code",
   "execution_count": 13,
   "id": "71c3ed26-cf2d-4f4a-8b6e-d44ad9b5edcb",
   "metadata": {},
   "outputs": [
    {
     "data": {
      "text/plain": [
       "Index(['area', 'bedrooms', 'bathrooms', 'stories', 'mainroad', 'guestroom',\n",
       "       'basement', 'hotwaterheating', 'airconditioning', 'parking', 'prefarea',\n",
       "       'furnishingstatus'],\n",
       "      dtype='object')"
      ]
     },
     "execution_count": 13,
     "metadata": {},
     "output_type": "execute_result"
    }
   ],
   "source": [
    "x_cols"
   ]
  },
  {
   "cell_type": "code",
   "execution_count": 14,
   "id": "ae43fb2f-ad11-4bbf-8ef0-ccae91e08b74",
   "metadata": {},
   "outputs": [],
   "source": [
    "'''\n",
    "SOLN\n",
    "'''\n",
    "\n",
    "# Initialize an array to hold our ata\n",
    "n = len(df)\n",
    "d = len(x_cols)\n",
    "\n",
    "X_feat = np.zeros((n,d))\n",
    "\n",
    "real_vars = ['area', 'bedrooms', 'bathrooms', 'stories', 'parking']\n",
    "bool_vars = ['mainroad', 'guestroom', 'basement', 'hotwaterheating', 'airconditioning', 'prefarea']\n",
    "cat_vars = ['furnishingstatus']\n"
   ]
  },
  {
   "cell_type": "code",
   "execution_count": 15,
   "id": "607ab0bd-e268-4f4a-b77e-662ccc9dc9cb",
   "metadata": {},
   "outputs": [],
   "source": [
    "for i,col in enumerate(x_cols):\n",
    "    \n",
    "    if col in real_vars:   \n",
    "        X_feat[:,i] = df[col]\n",
    "\n",
    "    elif col in bool_vars:\n",
    "        X_feat[:,i] = np.where(df[col]=='yes',1,0)\n",
    "\n",
    "    elif col in cat_vars:\n",
    "        \n",
    "        for k, case in enumerate(df[col].unique()):\n",
    "            X_feat[df[col]==case,i] = k"
   ]
  },
  {
   "cell_type": "code",
   "execution_count": 16,
   "id": "50165565-9b14-487a-8acb-0eba0e9cd7e6",
   "metadata": {},
   "outputs": [
    {
     "ename": "NameError",
     "evalue": "name 'X' is not defined",
     "output_type": "error",
     "traceback": [
      "\u001b[0;31m---------------------------------------------------------------------------\u001b[0m",
      "\u001b[0;31mNameError\u001b[0m                                 Traceback (most recent call last)",
      "Cell \u001b[0;32mIn[16], line 1\u001b[0m\n\u001b[0;32m----> 1\u001b[0m \u001b[43mX\u001b[49m\u001b[38;5;241m.\u001b[39mshape\n",
      "\u001b[0;31mNameError\u001b[0m: name 'X' is not defined"
     ]
    }
   ],
   "source": [
    "X.shape"
   ]
  },
  {
   "cell_type": "markdown",
   "id": "07719893-6ac6-44a1-9d16-6989d71dd66d",
   "metadata": {},
   "source": [
    "**Visualize first as a 1d histograms.**\n"
   ]
  },
  {
   "cell_type": "code",
   "execution_count": null,
   "id": "f49381ed-b325-4fcb-a539-08be2f73a4ab",
   "metadata": {},
   "outputs": [],
   "source": [
    "fig, axs = plt.subplots(3,4,figsize=(16,10),gridspec_kw={'hspace':.4,'wspace':.5})\n",
    "\n",
    "'''\n",
    "TO DO: Your code here\n",
    "'''\n",
    "for i, col, ax in zip(np.arange(d),x_cols,axs.flatten()):\n",
    "\n",
    "    ax.hist(X_feat[:,i],color='lightskyblue')\n",
    "    ax.set_xlabel(col)\n",
    "    ax.set_ylabel('Entries')\n",
    "\n",
    "plt.show()"
   ]
  },
  {
   "cell_type": "markdown",
   "id": "01476cb7-7e5d-421f-bb6a-a6024a730939",
   "metadata": {},
   "source": [
    "**Next, visualize the correlations with target $y$**\n"
   ]
  },
  {
   "cell_type": "code",
   "execution_count": null,
   "id": "0ee06412-2605-4ed0-914f-13c74177c116",
   "metadata": {},
   "outputs": [],
   "source": [
    "y = df['price ($1M)'].values\n",
    "y[:10]"
   ]
  },
  {
   "cell_type": "code",
   "execution_count": null,
   "id": "e500a2db-3df6-468d-ac69-a071dc435b21",
   "metadata": {},
   "outputs": [],
   "source": [
    "fig, axs = plt.subplots(3,4,figsize=(16,9),gridspec_kw={'hspace':.4,'wspace':.5})\n",
    "\n",
    "'''\n",
    "TO DO: Your code here\n",
    "'''\n",
    "for i, col, ax in zip(np.arange(d),x_cols,axs.flatten()):\n",
    "\n",
    "    ax.scatter(X_feat[:,i],y,color='lightskyblue')\n",
    "    ax.set_xlabel(col)\n",
    "    ax.set_ylabel('price ($1M)')\n",
    "\n",
    "plt.show()"
   ]
  },
  {
   "cell_type": "markdown",
   "id": "4ca707a0-1ecb-44cf-a002-1d7f59fa716e",
   "metadata": {},
   "source": [
    "### <span style=\"color:purple\"> 2. Hypothesis class: linear models  </span>\n",
    "\n",
    "OK, nice we can see each of these input features have some correlation with the price.\n",
    "\n",
    "**Next:** We want to code this up!\n",
    "\n",
    "$$f(x; w) = w^T x, \\quad \\mathrm{where} \\ w,x \\in \\mathbb{R}^{(d+1) \\times 1}$$\n",
    "\n",
    "as we now wish to the bias to the feature vector $x = \\left[1, x_1, x_2, \\ldots, x_d \\right]^T$.\n",
    "\n",
    "As suggested in the lecture, we'd like to work with _matrices_ now, so write the data vector in the form:\n",
    "\n",
    "$$X =  \\begin{pmatrix}\n",
    "- x^{(1)} - \\\\ \\vdots \\\\ - x^{(n)} - \n",
    "\\end{pmatrix} \\in \\mathbb{R}^{n \\times {(d+1)}}$$\n",
    "\n",
    "So then to eval $f$ over the data _matrix_ our model becomes:\n",
    "\n",
    "$$f(X;w) = X w \\ \\in \\mathbb{R}^{n \\times 1}$$\n"
   ]
  },
  {
   "cell_type": "code",
   "execution_count": null,
   "id": "66307438-a43e-45e5-9f29-376e6253cec3",
   "metadata": {},
   "outputs": [],
   "source": [
    "X_feat.shape"
   ]
  },
  {
   "cell_type": "code",
   "execution_count": null,
   "id": "959e36ac-ba13-4fa6-91d9-815089f8f268",
   "metadata": {},
   "outputs": [],
   "source": [
    "# Adding the bias to the feature vector\n",
    "\n",
    "X = np.column_stack([np.ones(n),X_feat])\n",
    "assert X.shape == (n, d+1)"
   ]
  },
  {
   "cell_type": "code",
   "execution_count": null,
   "id": "221b79a9-0192-41ed-a55d-156da3c09ccb",
   "metadata": {},
   "outputs": [],
   "source": [
    "def f(X,w):\n",
    "\n",
    "    '''\n",
    "    TO DO: Your code here\n",
    "    '''\n",
    "    return X @ w\n",
    "    "
   ]
  },
  {
   "cell_type": "code",
   "execution_count": null,
   "id": "519088a5-285e-43bc-a8fe-802394804d7e",
   "metadata": {},
   "outputs": [],
   "source": [
    "'''\n",
    "TO DO: Implement the dimension for w and test your \n",
    "'''\n",
    "# w = np.zeros # FILL IN DIMS\n",
    "\n",
    "'''\n",
    "SOLN \n",
    "'''\n",
    "w0 = np.zeros((d+1,1))\n",
    "\n",
    "f(X,w0).shape # willl test your code"
   ]
  },
  {
   "cell_type": "markdown",
   "id": "b2162f6d-feac-4c80-b402-1d5359e3161b",
   "metadata": {},
   "source": [
    "### <span style=\"color:blue\"> 3. Loss function, MSE </span>\n",
    "\n",
    "For a **regression** target we train with the **mean squared errror**\n",
    "\n",
    "For linear models, we worked through the _closed form_ solution:\n",
    "\n",
    "$w^* = (X^T X)^{-1} X y$\n",
    "\n",
    "**TO DO:** Code this up!\n"
   ]
  },
  {
   "cell_type": "code",
   "execution_count": null,
   "id": "233c923f-cb44-48c2-94ee-041e99af67e1",
   "metadata": {},
   "outputs": [],
   "source": [
    "def w_star(X,y):\n",
    "\n",
    "    '''\n",
    "    TO DO: Your code here\n",
    "    '''\n",
    "\n",
    "    # Soln\n",
    "    return np.linalg.inv(X.T @ X) @ X.T @ y\n",
    "    "
   ]
  },
  {
   "cell_type": "markdown",
   "id": "34763232-4c3d-451a-9142-1a9979cec98a",
   "metadata": {},
   "source": [
    "### <span style=\"color:turquoise\"> 4. Learning (fitting the model) </span>\n",
    "\n",
    "OK, let's test the model out!!"
   ]
  },
  {
   "cell_type": "code",
   "execution_count": null,
   "id": "391e9a24-a016-4ce6-98bd-26b659a83b0d",
   "metadata": {},
   "outputs": [],
   "source": [
    "# Sanity check the code works\n",
    "w_fit = w_star(X,y)\n",
    "w_fit"
   ]
  },
  {
   "cell_type": "markdown",
   "id": "6f08d10a-ffe9-4e1c-8e71-9d9c98987f01",
   "metadata": {},
   "source": [
    "**What's the minimum value of this loss function??**"
   ]
  },
  {
   "cell_type": "code",
   "execution_count": null,
   "id": "3af6d6c9-fb00-4fc3-ad2a-dd56d5417cb3",
   "metadata": {},
   "outputs": [],
   "source": [
    "y_pred = f(X,w_fit)\n",
    "y_pred[:10]"
   ]
  },
  {
   "cell_type": "code",
   "execution_count": null,
   "id": "3dd4a257-3b1d-4375-b6a5-e68da4ede5f9",
   "metadata": {},
   "outputs": [],
   "source": [
    "def mse(y,y_pred):\n",
    "    '''\n",
    "    TO DO: fill in\n",
    "    '''\n",
    "    return np.sum((y_pred-y)**2) / n"
   ]
  },
  {
   "cell_type": "code",
   "execution_count": null,
   "id": "d4b8e9a8-5733-4073-868e-28b7ce5b1c13",
   "metadata": {},
   "outputs": [],
   "source": [
    "L_min = mse(y,y_pred)\n",
    "L_min"
   ]
  },
  {
   "cell_type": "markdown",
   "id": "393a4cc3-21ac-4679-a6e1-02ddbea2ee1f",
   "metadata": {},
   "source": [
    "If we perturb `w_fit` just a little bit, is the loss **bigger** or smaller?"
   ]
  },
  {
   "cell_type": "code",
   "execution_count": null,
   "id": "3921b8b4-45ba-4675-bb4c-57c843cdae12",
   "metadata": {},
   "outputs": [],
   "source": [
    "w_pert = w_fit + 0.001*np.random.randn(d+1)\n",
    "w_pert"
   ]
  },
  {
   "cell_type": "code",
   "execution_count": null,
   "id": "a69532b7-ef68-4d1a-bb0e-2877ce4bdd2c",
   "metadata": {},
   "outputs": [],
   "source": [
    "y_pert = f(X,w_pert)\n",
    "\n",
    "L_alt = mse(y,y_pert)\n",
    "L_alt"
   ]
  },
  {
   "cell_type": "code",
   "execution_count": null,
   "id": "1726f916-13c3-4d1f-945a-b282d3028e83",
   "metadata": {},
   "outputs": [],
   "source": [
    "assert L_min < L_alt # If this isn't satisfied, smth went wrong!"
   ]
  },
  {
   "cell_type": "markdown",
   "id": "988906cd-e47e-4ab8-b4af-799ff9a6fd4b",
   "metadata": {},
   "source": [
    "### <span style=\"color:gold\"> 5. Analysis of results</span>\n",
    "\n",
    "\n",
    "As this tutorial was already a bit long, this is a **bonus section!**"
   ]
  },
  {
   "cell_type": "markdown",
   "id": "62e5b0c8-0ac2-4244-99fc-5bbeaa21878e",
   "metadata": {},
   "source": [
    "How performant are linear models with fewer features?\n",
    "\n",
    "**TO DO:** For _each_ of the $d$ features, fit a linear model "
   ]
  },
  {
   "cell_type": "code",
   "execution_count": null,
   "id": "5cc815f5-1ae8-4d5d-b278-b9e8d80c1f99",
   "metadata": {},
   "outputs": [],
   "source": [
    "fig, axs = plt.subplots(3,4,figsize=(16,9),gridspec_kw={'hspace':.4,'wspace':.5})\n",
    "\n",
    "'''\n",
    "TO DO: Your code here\n",
    "'''\n",
    "for i, col, ax in zip(np.arange(d),x_cols,axs.flatten()):\n",
    "\n",
    "    ax.scatter(X_feat[:,i],y,color='lightskyblue')\n",
    "\n",
    "    '''\n",
    "    TO DO: Implement your code here\n",
    "    '''\n",
    "    \n",
    "    # Define Xi\n",
    "    Xi = np.column_stack([np.ones(n),X_feat[:,i]])    \n",
    "\n",
    "    # Fit the best fit w\n",
    "    wi = w_star(Xi,y)\n",
    "    \n",
    "    # Look at a prediciton\n",
    "    xlim = ax.get_xlim()\n",
    "    xx = np.linspace(*xlim)\n",
    "\n",
    "    yy = f(np.column_stack([np.ones_like(xx),xx]),wi)\n",
    "    ax.plot(xx,yy,color='r',ls=':')\n",
    "    \n",
    "    ax.set_xlabel(col)\n",
    "    ax.set_ylabel('price ($1M)')\n",
    "    ax.set_title(f'Loss: {mse(y, f(Xi,wi)):.3f}')\n",
    "    \n",
    "plt.show()"
   ]
  },
  {
   "cell_type": "markdown",
   "id": "a72585e4-da7c-4761-be32-af53a734f81d",
   "metadata": {},
   "source": [
    "<span style=\"color:blue\">  **Key take-away:**</span> \n",
    "- <span style=\"color:blue\">The ``most informative'' input feature is `area` (the house size in ft$^2$), b/c using this feature alone gives the lowest loss.</span> \n",
    "- <span style=\"color:blue\"> However, we get the lowest loss when combining _all_ the input features(!) </span> \n",
    "\n",
    "Note, the linear model that we set up today, doesn't include correlations in the input features.\n",
    "\n",
    "We could have included them ``by hand'' by addition additional terms for the feature correlation, e.g, adding a dimensions like \n",
    "\n",
    "`area` x `bedrooms`.\n",
    "\n",
    "This careful process of _defining_ which variables to include into a model is called **feature engineering**, but tomorrow, we'll see how neural networks can automatically _learn_ how to create useful features."
   ]
  },
  {
   "cell_type": "code",
   "execution_count": null,
   "id": "859c367e-172a-4b2a-80b6-147319baa914",
   "metadata": {},
   "outputs": [],
   "source": []
  },
  {
   "cell_type": "markdown",
   "id": "374ac672-c53d-4012-a086-63f4193d4dbd",
   "metadata": {},
   "source": [
    "**Word of caution:** The purpose for this notebook was to understand linear models, MSE loss function, and implementing in code the formuas we derived.\n",
    "\n",
    "However, in our solution, we're writing the whole notebook both fitting and predicting the performance on the training dataset, instead of splitting into a train, val and test set.\n",
    "\n",
    "We'll leave as an exercise to the student to revise the notebook for the train, val, test sets"
   ]
  },
  {
   "cell_type": "code",
   "execution_count": null,
   "id": "2e364454-95f5-4bc2-848e-13b90cd7676f",
   "metadata": {},
   "outputs": [],
   "source": []
  }
 ],
 "metadata": {
  "kernelspec": {
   "display_name": "Python 3 (ipykernel)",
   "language": "python",
   "name": "python3"
  },
  "language_info": {
   "codemirror_mode": {
    "name": "ipython",
    "version": 3
   },
   "file_extension": ".py",
   "mimetype": "text/x-python",
   "name": "python",
   "nbconvert_exporter": "python",
   "pygments_lexer": "ipython3",
   "version": "3.12.8"
  }
 },
 "nbformat": 4,
 "nbformat_minor": 5
}
