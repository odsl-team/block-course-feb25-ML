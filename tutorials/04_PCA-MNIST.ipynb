{
 "cells": [
  {
   "cell_type": "markdown",
   "metadata": {},
   "source": [
    "# Principle Componenet Analysis: MNIST\n",
    "\n",
    "Notebook / exercise from Philipp Eller.\n",
    "\n",
    "**Useful functions**\n",
    "- `np.eigh`\n",
    "\n",
    "Today, we'll be back with MNIST (if you've started the homework, we've also been using it for homework 2).\n"
   ]
  },
  {
   "cell_type": "code",
   "execution_count": null,
   "metadata": {
    "slideshow": {
     "slide_type": "skip"
    }
   },
   "outputs": [],
   "source": [
    "import numpy as np\n",
    "import matplotlib.pyplot as plt\n",
    "import matplotlib.animation as animation\n",
    "from scipy import stats\n",
    "import scipy\n",
    "%matplotlib inline"
   ]
  },
  {
   "cell_type": "code",
   "execution_count": null,
   "metadata": {
    "slideshow": {
     "slide_type": "skip"
    }
   },
   "outputs": [],
   "source": [
    "plt.rcParams['figure.figsize'] = [5., 5.]\n",
    "plt.rcParams['xtick.labelsize'] = 14\n",
    "plt.rcParams['ytick.labelsize'] = 14 \n",
    "plt.rcParams['axes.labelsize'] = 16\n",
    "plt.rcParams['axes.titlesize'] = 16\n",
    "plt.rcParams['legend.fontsize'] = 14"
   ]
  },
  {
   "cell_type": "code",
   "execution_count": null,
   "metadata": {},
   "outputs": [],
   "source": []
  },
  {
   "cell_type": "markdown",
   "metadata": {},
   "source": [
    "Let's explore the MNSIT dataset and use PCA to reduce its dimensionality."
   ]
  },
  {
   "cell_type": "code",
   "execution_count": null,
   "metadata": {},
   "outputs": [],
   "source": [
    "def plot(X, y=None, rand=True):\n",
    "    '''\n",
    "    Plot 25 examples from X\n",
    "    - X: shape N,784\n",
    "    - y: (optional) for labelling the subplots with the truth labels\n",
    "    - rand: (default True), randomly draw samples from X\n",
    "    '''\n",
    "    fig, ax = plt.subplots(5,5)\n",
    "    \n",
    "    if rand:\n",
    "        idx = np.random.choice(len(X), 25, replace=False)\n",
    "    else:\n",
    "        idx = np.arange(25)\n",
    "    \n",
    "    for i in range(25):\n",
    "        axis = ax[i//5, i%5]\n",
    "        axis.axis('off')\n",
    "        axis.imshow(X[idx[i]].reshape(28,28), cmap='gray_r')\n",
    "        if y is not None:\n",
    "            axis.set_title('y = %s'%y[idx[i]])"
   ]
  },
  {
   "cell_type": "markdown",
   "metadata": {},
   "source": [
    "**Open the dataset**\n",
    "\n",
    "See instructions in the `data/README.md` file for how to download the data to use here :)"
   ]
  },
  {
   "cell_type": "code",
   "execution_count": null,
   "metadata": {},
   "outputs": [],
   "source": [
    "from numpy import genfromtxt\n",
    "mnist_train = genfromtxt('../data/MNIST_CSV/mnist_train.csv', delimiter=',')"
   ]
  },
  {
   "cell_type": "code",
   "execution_count": null,
   "metadata": {},
   "outputs": [],
   "source": [
    "y = mnist_train[:,0]\n",
    "X = mnist_train[:,1:]\n",
    "\n",
    "print('X',X.shape)\n",
    "print('y',y.shape)"
   ]
  },
  {
   "cell_type": "markdown",
   "metadata": {},
   "source": [
    "What does the data look like?"
   ]
  },
  {
   "cell_type": "code",
   "execution_count": null,
   "metadata": {},
   "outputs": [],
   "source": []
  },
  {
   "cell_type": "code",
   "execution_count": null,
   "metadata": {},
   "outputs": [],
   "source": [
    "plot(X)"
   ]
  },
  {
   "cell_type": "markdown",
   "metadata": {},
   "source": [
    "**Need to center the features before defining the sample covaraince matrix**"
   ]
  },
  {
   "cell_type": "markdown",
   "metadata": {},
   "source": [
    "**Step 1:** Preprocessing\n",
    "- Subtract off the mean"
   ]
  },
  {
   "cell_type": "code",
   "execution_count": null,
   "metadata": {
    "slideshow": {
     "slide_type": "slide"
    }
   },
   "outputs": [],
   "source": [
    "N,d = X.shape\n",
    "\n",
    "'''\n",
    "Your code here\n",
    "'''"
   ]
  },
  {
   "cell_type": "code",
   "execution_count": null,
   "metadata": {},
   "outputs": [],
   "source": [
    "# What does the input look like now?\n",
    "plot(X)"
   ]
  },
  {
   "cell_type": "markdown",
   "metadata": {},
   "source": [
    "**Step 2:** Calculate the sample covariance matrix"
   ]
  },
  {
   "cell_type": "code",
   "execution_count": null,
   "metadata": {},
   "outputs": [],
   "source": [
    "'''\n",
    "To do: Your code here\n",
    "'''\n",
    "Q = "
   ]
  },
  {
   "cell_type": "markdown",
   "metadata": {},
   "source": [
    "**Step 3:** Do the eigenvalue decomposition\n",
    "\n",
    "**Hints:**\n",
    "- `scipy.linalg.eigh` is helpful\n",
    "- What's the order that the eigenvalues / vectors get returned in? Which evals/evecs are most important for the pca alg?"
   ]
  },
  {
   "cell_type": "code",
   "execution_count": null,
   "metadata": {
    "slideshow": {
     "slide_type": "subslide"
    }
   },
   "outputs": [],
   "source": [
    "'''\n",
    "\n",
    "'''"
   ]
  },
  {
   "cell_type": "markdown",
   "metadata": {},
   "source": [
    "Sanity check: Can we reconstruct the sample covariance matrix from the eigenvectors?"
   ]
  },
  {
   "cell_type": "code",
   "execution_count": null,
   "metadata": {},
   "outputs": [],
   "source": [
    "fig, (ax0,ax1) = plt.subplots(1,2,figsize=(8,4))\n",
    "\n",
    "'''\n",
    "Note, assuming Q is the sample covariance matrix, and\n",
    "Qreco is reconstructed from the eigenvalues / vectors\n",
    "'''\n",
    "\n",
    "ax0.imshow(Q)\n",
    "ax0.set_title('Sample Covariance matrix')\n",
    "\n",
    "ax1.imshow(Qreco)\n",
    "ax1.set_title('Reco from eigenvectors')"
   ]
  },
  {
   "cell_type": "markdown",
   "metadata": {},
   "source": [
    "**Recall: What were we trying to maximimze?** -> The expected variance: \n",
    "$$Var(k) = \\sum_k \\frac{1}{N}||X v_k||_2^2,$$\n",
    "\n",
    "or the L2 norm squared in the lower dimensional representation.\n",
    "\n",
    "**Step 4:** Plot the expcted variance as a function of the dimensionality of the lower dim represnetation, $k$."
   ]
  },
  {
   "cell_type": "code",
   "execution_count": null,
   "metadata": {},
   "outputs": [],
   "source": [
    "'''\n",
    "To do: your code here\n",
    "'''"
   ]
  },
  {
   "cell_type": "code",
   "execution_count": null,
   "metadata": {},
   "outputs": [],
   "source": [
    "# Tip: Sanity check that the variance of all the eigenvectors matches\n",
    "# the variance w/o the change of basis"
   ]
  },
  {
   "cell_type": "code",
   "execution_count": null,
   "metadata": {},
   "outputs": [],
   "source": []
  },
  {
   "cell_type": "code",
   "execution_count": null,
   "metadata": {},
   "outputs": [],
   "source": [
    "'''\n",
    "Chcek your code!\n",
    "\n",
    "Assuming explained_variance_ratio is calculated in the step above,\n",
    "but you can use whatever variable name you like\n",
    "'''\n",
    "\n",
    "fig, ax = plt.subplots(1, 1, figsize=(10,5))\n",
    "ax.bar(np.arange(d) + 1, explained_variance_ratio, width=1, label='cumulative')\n",
    "\n",
    "ax.set_ylabel('Explained Variance (%)')\n",
    "ax.set_xlabel('PCA component')"
   ]
  },
  {
   "cell_type": "markdown",
   "metadata": {},
   "source": [
    "**Follow up Q:** How many modes do you need to explain the expected variance?"
   ]
  },
  {
   "cell_type": "markdown",
   "metadata": {},
   "source": [
    "**Includ your A in text:**"
   ]
  },
  {
   "cell_type": "code",
   "execution_count": null,
   "metadata": {},
   "outputs": [],
   "source": [
    "# Check your intuition in code\n",
    "\n",
    "k = # Your task, what k to check\n",
    "print(k, explained_variance_ratio[k])"
   ]
  },
  {
   "cell_type": "code",
   "execution_count": null,
   "metadata": {},
   "outputs": [],
   "source": []
  },
  {
   "cell_type": "code",
   "execution_count": null,
   "metadata": {},
   "outputs": [],
   "source": []
  },
  {
   "cell_type": "markdown",
   "metadata": {},
   "source": [
    "**Step 5:** How do the number of reco modes impact the reconstructed resolution (A.k.a, look at the plots for a low, med and high reconstruction value.)"
   ]
  },
  {
   "cell_type": "code",
   "execution_count": null,
   "metadata": {
    "slideshow": {
     "slide_type": "subslide"
    }
   },
   "outputs": [],
   "source": [
    "for k in [10, 100,320]:\n",
    "\n",
    "    # for speed, I'm just going to look at 25 examples\n",
    "    idx =  np.random.choice(N, 25, replace=False)\n",
    "    \n",
    "    # TO DO: Project into the lower dim repn, then back into the higher dim one\n",
    "    X_rec =\n",
    "\n",
    "    # TO DO:  Add the mean back on\n",
    "    X_rec += \n",
    "\n",
    "    print('k=',k)\n",
    "    plot(X_rec + mean,rand=False)\n",
    "    plt.show()"
   ]
  },
  {
   "cell_type": "markdown",
   "metadata": {},
   "source": [
    "**Step 6:** Visualize the 2d PCA space "
   ]
  },
  {
   "cell_type": "code",
   "execution_count": null,
   "metadata": {},
   "outputs": [],
   "source": [
    "reduced_data = \n",
    "\n",
    "_ = plt.scatter(reduced_data[:, 0], reduced_data[:, 1],s=.05)"
   ]
  },
  {
   "cell_type": "markdown",
   "metadata": {},
   "source": [
    "Nice! Does this latent representation correspond to something meaningful for recognizing digits too?\n",
    "\n",
    "**Step 7:** Color code the PCA vizualization based on the \"truth\" y values"
   ]
  },
  {
   "cell_type": "code",
   "execution_count": null,
   "metadata": {},
   "outputs": [],
   "source": [
    "plt.scatter(reduced_data[:, 0], reduced_data[:, 1],s=.05,c=plt.get_cmap('tab10')(y))\n",
    "\n",
    "plt.vlines(-700,*plt.ylim(),color='k',ls='--')\n",
    "plt.hlines(-100,*plt.xlim(),color='k',ls='--')"
   ]
  },
  {
   "cell_type": "markdown",
   "metadata": {
    "slideshow": {
     "slide_type": "subslide"
    }
   },
   "source": [
    "What are these \"clusters\" of points?"
   ]
  },
  {
   "cell_type": "code",
   "execution_count": null,
   "metadata": {},
   "outputs": [],
   "source": [
    "mask = (reduced_data[:, 0] < -700) & (reduced_data[:, 1] < -100)"
   ]
  },
  {
   "cell_type": "code",
   "execution_count": null,
   "metadata": {},
   "outputs": [],
   "source": [
    "plot((X+mean)[mask])"
   ]
  },
  {
   "cell_type": "markdown",
   "metadata": {},
   "source": [
    "Cool, the lower left corner mostly corresponding to _______"
   ]
  },
  {
   "cell_type": "code",
   "execution_count": null,
   "metadata": {},
   "outputs": [],
   "source": []
  }
 ],
 "metadata": {
  "celltoolbar": "Slideshow",
  "kernelspec": {
   "display_name": "Python 3 (ipykernel)",
   "language": "python",
   "name": "python3"
  },
  "language_info": {
   "codemirror_mode": {
    "name": "ipython",
    "version": 3
   },
   "file_extension": ".py",
   "mimetype": "text/x-python",
   "name": "python",
   "nbconvert_exporter": "python",
   "pygments_lexer": "ipython3",
   "version": "3.12.8"
  }
 },
 "nbformat": 4,
 "nbformat_minor": 4
}
