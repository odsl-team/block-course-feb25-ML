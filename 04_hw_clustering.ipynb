{
 "cells": [
  {
   "cell_type": "markdown",
   "id": "be808d2a-5c7a-4032-afb6-68cf5989bd8e",
   "metadata": {},
   "source": [
    "# Homework 4: Intro to clustering\n",
    "\n",
    "**Table of Contents:**\n",
    "1. K-means\n",
    "2. PCA for MNIST classification\n",
    "3. BDTs in xgboost (c.f. NN from part 2)\n"
   ]
  },
  {
   "cell_type": "code",
   "execution_count": null,
   "id": "9d544a42-edc8-4fbd-8f96-384551b51990",
   "metadata": {},
   "outputs": [],
   "source": []
  }
 ],
 "metadata": {
  "kernelspec": {
   "display_name": "Python 3 (ipykernel)",
   "language": "python",
   "name": "python3"
  },
  "language_info": {
   "codemirror_mode": {
    "name": "ipython",
    "version": 3
   },
   "file_extension": ".py",
   "mimetype": "text/x-python",
   "name": "python",
   "nbconvert_exporter": "python",
   "pygments_lexer": "ipython3",
   "version": "3.12.8"
  }
 },
 "nbformat": 4,
 "nbformat_minor": 5
}
